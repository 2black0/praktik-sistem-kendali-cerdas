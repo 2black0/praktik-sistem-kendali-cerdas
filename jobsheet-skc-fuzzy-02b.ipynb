{
 "cells": [
  {
   "cell_type": "markdown",
   "metadata": {
    "id": "tfpS7KvvIWXf"
   },
   "source": [
    "# Install skfuzzy module"
   ]
  },
  {
   "cell_type": "code",
   "execution_count": 28,
   "metadata": {
    "colab": {
     "base_uri": "https://localhost:8080/"
    },
    "executionInfo": {
     "elapsed": 3256,
     "status": "ok",
     "timestamp": 1648093282479,
     "user": {
      "displayName": "Ardy Seto Priambodo",
      "photoUrl": "https://lh3.googleusercontent.com/a-/AOh14Gh8s8dWmJlOdpJGl7_Lco9nbquLC4L9cE4h1xg5=s64",
      "userId": "15348853583284793242"
     },
     "user_tz": -420
    },
    "id": "3CCOusemC_eO",
    "outputId": "505f4f82-12d4-4884-dda7-e9e538a239c4"
   },
   "outputs": [
    {
     "name": "stdout",
     "output_type": "stream",
     "text": [
      "Requirement already satisfied: scikit-fuzzy in /usr/local/lib/python3.7/dist-packages (0.4.2)\n",
      "Requirement already satisfied: scipy>=0.9.0 in /usr/local/lib/python3.7/dist-packages (from scikit-fuzzy) (1.4.1)\n",
      "Requirement already satisfied: networkx>=1.9.0 in /usr/local/lib/python3.7/dist-packages (from scikit-fuzzy) (2.6.3)\n",
      "Requirement already satisfied: numpy>=1.6.0 in /usr/local/lib/python3.7/dist-packages (from scikit-fuzzy) (1.21.5)\n"
     ]
    }
   ],
   "source": [
    "!pip install scikit-fuzzy"
   ]
  },
  {
   "cell_type": "code",
   "execution_count": 29,
   "metadata": {
    "executionInfo": {
     "elapsed": 326,
     "status": "ok",
     "timestamp": 1648093290483,
     "user": {
      "displayName": "Ardy Seto Priambodo",
      "photoUrl": "https://lh3.googleusercontent.com/a-/AOh14Gh8s8dWmJlOdpJGl7_Lco9nbquLC4L9cE4h1xg5=s64",
      "userId": "15348853583284793242"
     },
     "user_tz": -420
    },
    "id": "syOdiRFoF5nx"
   },
   "outputs": [],
   "source": [
    "import numpy as np\n",
    "import skfuzzy as fuzz\n",
    "import matplotlib.pyplot as plt"
   ]
  },
  {
   "cell_type": "markdown",
   "metadata": {
    "id": "mzqdd8gHIVjE"
   },
   "source": [
    "# Create input membership function"
   ]
  },
  {
   "cell_type": "code",
   "execution_count": 30,
   "metadata": {
    "executionInfo": {
     "elapsed": 4,
     "status": "ok",
     "timestamp": 1648093295878,
     "user": {
      "displayName": "Ardy Seto Priambodo",
      "photoUrl": "https://lh3.googleusercontent.com/a-/AOh14Gh8s8dWmJlOdpJGl7_Lco9nbquLC4L9cE4h1xg5=s64",
      "userId": "15348853583284793242"
     },
     "user_tz": -420
    },
    "id": "zYAl442qGIPe"
   },
   "outputs": [],
   "source": [
    "x_qual = np.arange(0, 11, 0.1)"
   ]
  },
  {
   "cell_type": "code",
   "execution_count": null,
   "metadata": {
    "colab": {
     "base_uri": "https://localhost:8080/"
    },
    "executionInfo": {
     "elapsed": 6,
     "status": "ok",
     "timestamp": 1648085743722,
     "user": {
      "displayName": "Ardy Seto Priambodo",
      "photoUrl": "https://lh3.googleusercontent.com/a-/AOh14Gh8s8dWmJlOdpJGl7_Lco9nbquLC4L9cE4h1xg5=s64",
      "userId": "15348853583284793242"
     },
     "user_tz": -420
    },
    "id": "mgPwwizgGPBJ",
    "outputId": "cadd04a1-2f04-48bf-fe46-645b2f7f2ef0"
   },
   "outputs": [
    {
     "data": {
      "text/plain": [
       "array([ 0. ,  0.1,  0.2,  0.3,  0.4,  0.5,  0.6,  0.7,  0.8,  0.9,  1. ,\n",
       "        1.1,  1.2,  1.3,  1.4,  1.5,  1.6,  1.7,  1.8,  1.9,  2. ,  2.1,\n",
       "        2.2,  2.3,  2.4,  2.5,  2.6,  2.7,  2.8,  2.9,  3. ,  3.1,  3.2,\n",
       "        3.3,  3.4,  3.5,  3.6,  3.7,  3.8,  3.9,  4. ,  4.1,  4.2,  4.3,\n",
       "        4.4,  4.5,  4.6,  4.7,  4.8,  4.9,  5. ,  5.1,  5.2,  5.3,  5.4,\n",
       "        5.5,  5.6,  5.7,  5.8,  5.9,  6. ,  6.1,  6.2,  6.3,  6.4,  6.5,\n",
       "        6.6,  6.7,  6.8,  6.9,  7. ,  7.1,  7.2,  7.3,  7.4,  7.5,  7.6,\n",
       "        7.7,  7.8,  7.9,  8. ,  8.1,  8.2,  8.3,  8.4,  8.5,  8.6,  8.7,\n",
       "        8.8,  8.9,  9. ,  9.1,  9.2,  9.3,  9.4,  9.5,  9.6,  9.7,  9.8,\n",
       "        9.9, 10. , 10.1, 10.2, 10.3, 10.4, 10.5, 10.6, 10.7, 10.8, 10.9])"
      ]
     },
     "execution_count": 18,
     "metadata": {},
     "output_type": "execute_result"
    }
   ],
   "source": [
    "x_qual"
   ]
  },
  {
   "cell_type": "code",
   "execution_count": 31,
   "metadata": {
    "executionInfo": {
     "elapsed": 358,
     "status": "ok",
     "timestamp": 1648093300156,
     "user": {
      "displayName": "Ardy Seto Priambodo",
      "photoUrl": "https://lh3.googleusercontent.com/a-/AOh14Gh8s8dWmJlOdpJGl7_Lco9nbquLC4L9cE4h1xg5=s64",
      "userId": "15348853583284793242"
     },
     "user_tz": -420
    },
    "id": "FU8xbzv6GMJW"
   },
   "outputs": [],
   "source": [
    "qual_lo = fuzz.trimf(x_qual, [0, 0, 5])"
   ]
  },
  {
   "cell_type": "code",
   "execution_count": null,
   "metadata": {
    "colab": {
     "base_uri": "https://localhost:8080/"
    },
    "executionInfo": {
     "elapsed": 4,
     "status": "ok",
     "timestamp": 1648085786617,
     "user": {
      "displayName": "Ardy Seto Priambodo",
      "photoUrl": "https://lh3.googleusercontent.com/a-/AOh14Gh8s8dWmJlOdpJGl7_Lco9nbquLC4L9cE4h1xg5=s64",
      "userId": "15348853583284793242"
     },
     "user_tz": -420
    },
    "id": "BbCiokm4GNa3",
    "outputId": "a4163c8a-6a2e-488c-9a97-357598ab6d63"
   },
   "outputs": [
    {
     "data": {
      "text/plain": [
       "array([1.  , 0.98, 0.96, 0.94, 0.92, 0.9 , 0.88, 0.86, 0.84, 0.82, 0.8 ,\n",
       "       0.78, 0.76, 0.74, 0.72, 0.7 , 0.68, 0.66, 0.64, 0.62, 0.6 , 0.58,\n",
       "       0.56, 0.54, 0.52, 0.5 , 0.48, 0.46, 0.44, 0.42, 0.4 , 0.38, 0.36,\n",
       "       0.34, 0.32, 0.3 , 0.28, 0.26, 0.24, 0.22, 0.2 , 0.18, 0.16, 0.14,\n",
       "       0.12, 0.1 , 0.08, 0.06, 0.04, 0.02, 0.  , 0.  , 0.  , 0.  , 0.  ,\n",
       "       0.  , 0.  , 0.  , 0.  , 0.  , 0.  , 0.  , 0.  , 0.  , 0.  , 0.  ,\n",
       "       0.  , 0.  , 0.  , 0.  , 0.  , 0.  , 0.  , 0.  , 0.  , 0.  , 0.  ,\n",
       "       0.  , 0.  , 0.  , 0.  , 0.  , 0.  , 0.  , 0.  , 0.  , 0.  , 0.  ,\n",
       "       0.  , 0.  , 0.  , 0.  , 0.  , 0.  , 0.  , 0.  , 0.  , 0.  , 0.  ,\n",
       "       0.  , 0.  , 0.  , 0.  , 0.  , 0.  , 0.  , 0.  , 0.  , 0.  , 0.  ])"
      ]
     },
     "execution_count": 20,
     "metadata": {},
     "output_type": "execute_result"
    }
   ],
   "source": [
    "qual_lo"
   ]
  },
  {
   "cell_type": "code",
   "execution_count": 32,
   "metadata": {
    "colab": {
     "base_uri": "https://localhost:8080/",
     "height": 265
    },
    "executionInfo": {
     "elapsed": 387,
     "status": "ok",
     "timestamp": 1648093311308,
     "user": {
      "displayName": "Ardy Seto Priambodo",
      "photoUrl": "https://lh3.googleusercontent.com/a-/AOh14Gh8s8dWmJlOdpJGl7_Lco9nbquLC4L9cE4h1xg5=s64",
      "userId": "15348853583284793242"
     },
     "user_tz": -420
    },
    "id": "4LZNd8PPGOZ_",
    "outputId": "59ec6b8b-4316-47ce-d6f7-832e782eaaa6"
   },
   "outputs": [
    {
     "data": {
      "image/png": "[encoded data removed]",
      "text/plain": [
       "<Figure size 432x288 with 1 Axes>"
      ]
     },
     "metadata": {
      "needs_background": "light"
     },
     "output_type": "display_data"
    }
   ],
   "source": [
    "plt.plot(x_qual, qual_lo);"
   ]
  },
  {
   "cell_type": "code",
   "execution_count": 33,
   "metadata": {
    "executionInfo": {
     "elapsed": 475,
     "status": "ok",
     "timestamp": 1648093316219,
     "user": {
      "displayName": "Ardy Seto Priambodo",
      "photoUrl": "https://lh3.googleusercontent.com/a-/AOh14Gh8s8dWmJlOdpJGl7_Lco9nbquLC4L9cE4h1xg5=s64",
      "userId": "15348853583284793242"
     },
     "user_tz": -420
    },
    "id": "kjkePmKwGYav"
   },
   "outputs": [],
   "source": [
    "qual_md = fuzz.trimf(x_qual, [0, 5, 10])"
   ]
  },
  {
   "cell_type": "code",
   "execution_count": null,
   "metadata": {
    "id": "H1DLf5AXGeTU"
   },
   "outputs": [],
   "source": [
    "#qual_md"
   ]
  },
  {
   "cell_type": "code",
   "execution_count": 34,
   "metadata": {
    "colab": {
     "base_uri": "https://localhost:8080/",
     "height": 265
    },
    "executionInfo": {
     "elapsed": 10,
     "status": "ok",
     "timestamp": 1648093316829,
     "user": {
      "displayName": "Ardy Seto Priambodo",
      "photoUrl": "https://lh3.googleusercontent.com/a-/AOh14Gh8s8dWmJlOdpJGl7_Lco9nbquLC4L9cE4h1xg5=s64",
      "userId": "15348853583284793242"
     },
     "user_tz": -420
    },
    "id": "DItfLm2LGe2V",
    "outputId": "206ad816-9321-422f-b78a-cb23d2bd88ef"
   },
   "outputs": [
    {
     "data": {
      "image/png": "[encoded data removed]",
      "text/plain": [
       "<Figure size 432x288 with 1 Axes>"
      ]
     },
     "metadata": {
      "needs_background": "light"
     },
     "output_type": "display_data"
    }
   ],
   "source": [
    "plt.plot(x_qual, qual_md);"
   ]
  },
  {
   "cell_type": "markdown",
   "metadata": {
    "id": "xdLNzXktIh6A"
   },
   "source": [
    "## Plot input 1 and 2 in one canvas"
   ]
  },
  {
   "cell_type": "code",
   "execution_count": 35,
   "metadata": {
    "colab": {
     "base_uri": "https://localhost:8080/",
     "height": 265
    },
    "executionInfo": {
     "elapsed": 430,
     "status": "ok",
     "timestamp": 1648093320275,
     "user": {
      "displayName": "Ardy Seto Priambodo",
      "photoUrl": "https://lh3.googleusercontent.com/a-/AOh14Gh8s8dWmJlOdpJGl7_Lco9nbquLC4L9cE4h1xg5=s64",
      "userId": "15348853583284793242"
     },
     "user_tz": -420
    },
    "id": "LMGe9TVrHoAX",
    "outputId": "7ce55113-3641-435f-e2f8-7c340a0c8a4b"
   },
   "outputs": [
    {
     "data": {
      "image/png": "[encoded data removed]",
      "text/plain": [
       "<Figure size 432x288 with 1 Axes>"
      ]
     },
     "metadata": {
      "needs_background": "light"
     },
     "output_type": "display_data"
    }
   ],
   "source": [
    "plt.plot(x_qual, qual_lo, x_qual, qual_md);"
   ]
  },
  {
   "cell_type": "markdown",
   "metadata": {
    "id": "8KmjdW6oIsWP"
   },
   "source": [
    "# And / Interception Operation with skfuzzy"
   ]
  },
  {
   "cell_type": "code",
   "execution_count": null,
   "metadata": {
    "id": "a-ef4pi-Gg-2"
   },
   "outputs": [],
   "source": [
    "from skfuzzy import fuzzymath as fzmath "
   ]
  },
  {
   "cell_type": "code",
   "execution_count": 36,
   "metadata": {
    "executionInfo": {
     "elapsed": 351,
     "status": "ok",
     "timestamp": 1648093383432,
     "user": {
      "displayName": "Ardy Seto Priambodo",
      "photoUrl": "https://lh3.googleusercontent.com/a-/AOh14Gh8s8dWmJlOdpJGl7_Lco9nbquLC4L9cE4h1xg5=s64",
      "userId": "15348853583284793242"
     },
     "user_tz": -420
    },
    "id": "-VjAJ4gAHrl4"
   },
   "outputs": [],
   "source": [
    "and_op = fzmath.fuzzy_and(x_qual, qual_lo, x_qual, qual_md)"
   ]
  },
  {
   "cell_type": "code",
   "execution_count": 37,
   "metadata": {
    "colab": {
     "base_uri": "https://localhost:8080/",
     "height": 269
    },
    "executionInfo": {
     "elapsed": 8,
     "status": "ok",
     "timestamp": 1648093385104,
     "user": {
      "displayName": "Ardy Seto Priambodo",
      "photoUrl": "https://lh3.googleusercontent.com/a-/AOh14Gh8s8dWmJlOdpJGl7_Lco9nbquLC4L9cE4h1xg5=s64",
      "userId": "15348853583284793242"
     },
     "user_tz": -420
    },
    "id": "AXRWR2DOI8bX",
    "outputId": "2b3f90ae-f7bd-41c0-9383-8f7a2798eed0"
   },
   "outputs": [
    {
     "data": {
      "image/png": "[encoded data removed]",
      "text/plain": [
       "<Figure size 432x288 with 1 Axes>"
      ]
     },
     "metadata": {
      "needs_background": "light"
     },
     "output_type": "display_data"
    }
   ],
   "source": [
    "plt.ylim([0,1])\n",
    "plt.plot(and_op[0], and_op[1], linewidth=5);\n",
    "plt.plot(x_qual, qual_lo, x_qual, qual_md);"
   ]
  },
  {
   "cell_type": "markdown",
   "metadata": {
    "id": "W33mZohnIMZM"
   },
   "source": [
    "# Or / Union Operation with skfuzzy"
   ]
  },
  {
   "cell_type": "code",
   "execution_count": 38,
   "metadata": {
    "executionInfo": {
     "elapsed": 323,
     "status": "ok",
     "timestamp": 1648093501905,
     "user": {
      "displayName": "Ardy Seto Priambodo",
      "photoUrl": "https://lh3.googleusercontent.com/a-/AOh14Gh8s8dWmJlOdpJGl7_Lco9nbquLC4L9cE4h1xg5=s64",
      "userId": "15348853583284793242"
     },
     "user_tz": -420
    },
    "id": "EvhpML_gGr_G"
   },
   "outputs": [],
   "source": [
    "or_op = fzmath.fuzzy_or(x_qual, qual_lo, x_qual, qual_md)"
   ]
  },
  {
   "cell_type": "code",
   "execution_count": 39,
   "metadata": {
    "colab": {
     "base_uri": "https://localhost:8080/"
    },
    "executionInfo": {
     "elapsed": 331,
     "status": "ok",
     "timestamp": 1648093539278,
     "user": {
      "displayName": "Ardy Seto Priambodo",
      "photoUrl": "https://lh3.googleusercontent.com/a-/AOh14Gh8s8dWmJlOdpJGl7_Lco9nbquLC4L9cE4h1xg5=s64",
      "userId": "15348853583284793242"
     },
     "user_tz": -420
    },
    "id": "90VQwWB7k3za",
    "outputId": "6b73fe1c-2aaa-4820-915b-334809b7b5e6"
   },
   "outputs": [
    {
     "data": {
      "text/plain": [
       "array([1.  , 0.98, 0.96, 0.94, 0.92, 0.9 , 0.88, 0.86, 0.84, 0.82, 0.8 ,\n",
       "       0.78, 0.76, 0.74, 0.72, 0.7 , 0.68, 0.66, 0.64, 0.62, 0.6 , 0.58,\n",
       "       0.56, 0.54, 0.52, 0.5 , 0.48, 0.46, 0.44, 0.42, 0.4 , 0.38, 0.36,\n",
       "       0.34, 0.32, 0.3 , 0.28, 0.26, 0.24, 0.22, 0.2 , 0.18, 0.16, 0.14,\n",
       "       0.12, 0.1 , 0.08, 0.06, 0.04, 0.02, 0.  , 0.  , 0.  , 0.  , 0.  ,\n",
       "       0.  , 0.  , 0.  , 0.  , 0.  , 0.  , 0.  , 0.  , 0.  , 0.  , 0.  ,\n",
       "       0.  , 0.  , 0.  , 0.  , 0.  , 0.  , 0.  , 0.  , 0.  , 0.  , 0.  ,\n",
       "       0.  , 0.  , 0.  , 0.  , 0.  , 0.  , 0.  , 0.  , 0.  , 0.  , 0.  ,\n",
       "       0.  , 0.  , 0.  , 0.  , 0.  , 0.  , 0.  , 0.  , 0.  , 0.  , 0.  ,\n",
       "       0.  , 0.  , 0.  , 0.  , 0.  , 0.  , 0.  , 0.  , 0.  , 0.  , 0.  ])"
      ]
     },
     "execution_count": 39,
     "metadata": {},
     "output_type": "execute_result"
    }
   ],
   "source": [
    "qual_lo"
   ]
  },
  {
   "cell_type": "code",
   "execution_count": 40,
   "metadata": {
    "colab": {
     "base_uri": "https://localhost:8080/"
    },
    "executionInfo": {
     "elapsed": 341,
     "status": "ok",
     "timestamp": 1648093545253,
     "user": {
      "displayName": "Ardy Seto Priambodo",
      "photoUrl": "https://lh3.googleusercontent.com/a-/AOh14Gh8s8dWmJlOdpJGl7_Lco9nbquLC4L9cE4h1xg5=s64",
      "userId": "15348853583284793242"
     },
     "user_tz": -420
    },
    "id": "lsHLhp32k357",
    "outputId": "be2ac11e-ef3b-4355-ca6b-1b9ff82263e1"
   },
   "outputs": [
    {
     "data": {
      "text/plain": [
       "array([0.  , 0.02, 0.04, 0.06, 0.08, 0.1 , 0.12, 0.14, 0.16, 0.18, 0.2 ,\n",
       "       0.22, 0.24, 0.26, 0.28, 0.3 , 0.32, 0.34, 0.36, 0.38, 0.4 , 0.42,\n",
       "       0.44, 0.46, 0.48, 0.5 , 0.52, 0.54, 0.56, 0.58, 0.6 , 0.62, 0.64,\n",
       "       0.66, 0.68, 0.7 , 0.72, 0.74, 0.76, 0.78, 0.8 , 0.82, 0.84, 0.86,\n",
       "       0.88, 0.9 , 0.92, 0.94, 0.96, 0.98, 1.  , 0.98, 0.96, 0.94, 0.92,\n",
       "       0.9 , 0.88, 0.86, 0.84, 0.82, 0.8 , 0.78, 0.76, 0.74, 0.72, 0.7 ,\n",
       "       0.68, 0.66, 0.64, 0.62, 0.6 , 0.58, 0.56, 0.54, 0.52, 0.5 , 0.48,\n",
       "       0.46, 0.44, 0.42, 0.4 , 0.38, 0.36, 0.34, 0.32, 0.3 , 0.28, 0.26,\n",
       "       0.24, 0.22, 0.2 , 0.18, 0.16, 0.14, 0.12, 0.1 , 0.08, 0.06, 0.04,\n",
       "       0.02, 0.  , 0.  , 0.  , 0.  , 0.  , 0.  , 0.  , 0.  , 0.  , 0.  ])"
      ]
     },
     "execution_count": 40,
     "metadata": {},
     "output_type": "execute_result"
    }
   ],
   "source": [
    "qual_md"
   ]
  },
  {
   "cell_type": "code",
   "execution_count": 41,
   "metadata": {
    "colab": {
     "base_uri": "https://localhost:8080/"
    },
    "executionInfo": {
     "elapsed": 331,
     "status": "ok",
     "timestamp": 1648093551675,
     "user": {
      "displayName": "Ardy Seto Priambodo",
      "photoUrl": "https://lh3.googleusercontent.com/a-/AOh14Gh8s8dWmJlOdpJGl7_Lco9nbquLC4L9cE4h1xg5=s64",
      "userId": "15348853583284793242"
     },
     "user_tz": -420
    },
    "id": "Y-1e0PPsk4B0",
    "outputId": "14f10a01-b5a1-44cc-91f0-384e848dac23"
   },
   "outputs": [
    {
     "data": {
      "text/plain": [
       "(array([ 0. ,  0.1,  0.2,  0.3,  0.4,  0.5,  0.6,  0.7,  0.8,  0.9,  1. ,\n",
       "         1.1,  1.2,  1.3,  1.4,  1.5,  1.6,  1.7,  1.8,  1.9,  2. ,  2.1,\n",
       "         2.2,  2.3,  2.4,  2.5,  2.6,  2.7,  2.8,  2.9,  3. ,  3.1,  3.2,\n",
       "         3.3,  3.4,  3.5,  3.6,  3.7,  3.8,  3.9,  4. ,  4.1,  4.2,  4.3,\n",
       "         4.4,  4.5,  4.6,  4.7,  4.8,  4.9,  5. ,  5.1,  5.2,  5.3,  5.4,\n",
       "         5.5,  5.6,  5.7,  5.8,  5.9,  6. ,  6.1,  6.2,  6.3,  6.4,  6.5,\n",
       "         6.6,  6.7,  6.8,  6.9,  7. ,  7.1,  7.2,  7.3,  7.4,  7.5,  7.6,\n",
       "         7.7,  7.8,  7.9,  8. ,  8.1,  8.2,  8.3,  8.4,  8.5,  8.6,  8.7,\n",
       "         8.8,  8.9,  9. ,  9.1,  9.2,  9.3,  9.4,  9.5,  9.6,  9.7,  9.8,\n",
       "         9.9, 10. , 10.1, 10.2, 10.3, 10.4, 10.5, 10.6, 10.7, 10.8, 10.9]),\n",
       " array([1.  , 0.98, 0.96, 0.94, 0.92, 0.9 , 0.88, 0.86, 0.84, 0.82, 0.8 ,\n",
       "        0.78, 0.76, 0.74, 0.72, 0.7 , 0.68, 0.66, 0.64, 0.62, 0.6 , 0.58,\n",
       "        0.56, 0.54, 0.52, 0.5 , 0.52, 0.54, 0.56, 0.58, 0.6 , 0.62, 0.64,\n",
       "        0.66, 0.68, 0.7 , 0.72, 0.74, 0.76, 0.78, 0.8 , 0.82, 0.84, 0.86,\n",
       "        0.88, 0.9 , 0.92, 0.94, 0.96, 0.98, 1.  , 0.98, 0.96, 0.94, 0.92,\n",
       "        0.9 , 0.88, 0.86, 0.84, 0.82, 0.8 , 0.78, 0.76, 0.74, 0.72, 0.7 ,\n",
       "        0.68, 0.66, 0.64, 0.62, 0.6 , 0.58, 0.56, 0.54, 0.52, 0.5 , 0.48,\n",
       "        0.46, 0.44, 0.42, 0.4 , 0.38, 0.36, 0.34, 0.32, 0.3 , 0.28, 0.26,\n",
       "        0.24, 0.22, 0.2 , 0.18, 0.16, 0.14, 0.12, 0.1 , 0.08, 0.06, 0.04,\n",
       "        0.02, 0.  , 0.  , 0.  , 0.  , 0.  , 0.  , 0.  , 0.  , 0.  , 0.  ]))"
      ]
     },
     "execution_count": 41,
     "metadata": {},
     "output_type": "execute_result"
    }
   ],
   "source": [
    "or_op"
   ]
  },
  {
   "cell_type": "code",
   "execution_count": 42,
   "metadata": {
    "colab": {
     "base_uri": "https://localhost:8080/",
     "height": 265
    },
    "executionInfo": {
     "elapsed": 440,
     "status": "ok",
     "timestamp": 1648093633951,
     "user": {
      "displayName": "Ardy Seto Priambodo",
      "photoUrl": "https://lh3.googleusercontent.com/a-/AOh14Gh8s8dWmJlOdpJGl7_Lco9nbquLC4L9cE4h1xg5=s64",
      "userId": "15348853583284793242"
     },
     "user_tz": -420
    },
    "id": "0PtdqlsDHG9i",
    "outputId": "4b836408-8c58-4e01-b932-416850b06de9"
   },
   "outputs": [
    {
     "data": {
      "image/png": "[encoded data removed]",
      "text/plain": [
       "<Figure size 432x288 with 1 Axes>"
      ]
     },
     "metadata": {
      "needs_background": "light"
     },
     "output_type": "display_data"
    }
   ],
   "source": [
    "plt.plot(or_op[0], or_op[1], linewidth=5);\n",
    "plt.plot(x_qual, qual_lo, x_qual, qual_md);"
   ]
  },
  {
   "cell_type": "markdown",
   "metadata": {
    "id": "uh5sZ9MiJSPA"
   },
   "source": [
    "# Not / Complement Operation with skfuzzy"
   ]
  },
  {
   "cell_type": "code",
   "execution_count": 43,
   "metadata": {
    "executionInfo": {
     "elapsed": 346,
     "status": "ok",
     "timestamp": 1648093652348,
     "user": {
      "displayName": "Ardy Seto Priambodo",
      "photoUrl": "https://lh3.googleusercontent.com/a-/AOh14Gh8s8dWmJlOdpJGl7_Lco9nbquLC4L9cE4h1xg5=s64",
      "userId": "15348853583284793242"
     },
     "user_tz": -420
    },
    "id": "FnPHDAs7I-QA"
   },
   "outputs": [],
   "source": [
    "not_op = fzmath.fuzzy_not(qual_lo)"
   ]
  },
  {
   "cell_type": "code",
   "execution_count": 44,
   "metadata": {
    "colab": {
     "base_uri": "https://localhost:8080/"
    },
    "executionInfo": {
     "elapsed": 5,
     "status": "ok",
     "timestamp": 1648093653431,
     "user": {
      "displayName": "Ardy Seto Priambodo",
      "photoUrl": "https://lh3.googleusercontent.com/a-/AOh14Gh8s8dWmJlOdpJGl7_Lco9nbquLC4L9cE4h1xg5=s64",
      "userId": "15348853583284793242"
     },
     "user_tz": -420
    },
    "id": "Pl-JK9LOkwGL",
    "outputId": "4eaef19a-6dbd-492b-e32f-aca38d555857"
   },
   "outputs": [
    {
     "data": {
      "text/plain": [
       "array([1.  , 0.98, 0.96, 0.94, 0.92, 0.9 , 0.88, 0.86, 0.84, 0.82, 0.8 ,\n",
       "       0.78, 0.76, 0.74, 0.72, 0.7 , 0.68, 0.66, 0.64, 0.62, 0.6 , 0.58,\n",
       "       0.56, 0.54, 0.52, 0.5 , 0.48, 0.46, 0.44, 0.42, 0.4 , 0.38, 0.36,\n",
       "       0.34, 0.32, 0.3 , 0.28, 0.26, 0.24, 0.22, 0.2 , 0.18, 0.16, 0.14,\n",
       "       0.12, 0.1 , 0.08, 0.06, 0.04, 0.02, 0.  , 0.  , 0.  , 0.  , 0.  ,\n",
       "       0.  , 0.  , 0.  , 0.  , 0.  , 0.  , 0.  , 0.  , 0.  , 0.  , 0.  ,\n",
       "       0.  , 0.  , 0.  , 0.  , 0.  , 0.  , 0.  , 0.  , 0.  , 0.  , 0.  ,\n",
       "       0.  , 0.  , 0.  , 0.  , 0.  , 0.  , 0.  , 0.  , 0.  , 0.  , 0.  ,\n",
       "       0.  , 0.  , 0.  , 0.  , 0.  , 0.  , 0.  , 0.  , 0.  , 0.  , 0.  ,\n",
       "       0.  , 0.  , 0.  , 0.  , 0.  , 0.  , 0.  , 0.  , 0.  , 0.  , 0.  ])"
      ]
     },
     "execution_count": 44,
     "metadata": {},
     "output_type": "execute_result"
    }
   ],
   "source": [
    "qual_lo"
   ]
  },
  {
   "cell_type": "code",
   "execution_count": 45,
   "metadata": {
    "colab": {
     "base_uri": "https://localhost:8080/"
    },
    "executionInfo": {
     "elapsed": 6,
     "status": "ok",
     "timestamp": 1648093654622,
     "user": {
      "displayName": "Ardy Seto Priambodo",
      "photoUrl": "https://lh3.googleusercontent.com/a-/AOh14Gh8s8dWmJlOdpJGl7_Lco9nbquLC4L9cE4h1xg5=s64",
      "userId": "15348853583284793242"
     },
     "user_tz": -420
    },
    "id": "d5QqtqVukuMg",
    "outputId": "96f56e11-15d3-4c75-e145-715680a55f5d"
   },
   "outputs": [
    {
     "data": {
      "text/plain": [
       "array([0.  , 0.02, 0.04, 0.06, 0.08, 0.1 , 0.12, 0.14, 0.16, 0.18, 0.2 ,\n",
       "       0.22, 0.24, 0.26, 0.28, 0.3 , 0.32, 0.34, 0.36, 0.38, 0.4 , 0.42,\n",
       "       0.44, 0.46, 0.48, 0.5 , 0.52, 0.54, 0.56, 0.58, 0.6 , 0.62, 0.64,\n",
       "       0.66, 0.68, 0.7 , 0.72, 0.74, 0.76, 0.78, 0.8 , 0.82, 0.84, 0.86,\n",
       "       0.88, 0.9 , 0.92, 0.94, 0.96, 0.98, 1.  , 1.  , 1.  , 1.  , 1.  ,\n",
       "       1.  , 1.  , 1.  , 1.  , 1.  , 1.  , 1.  , 1.  , 1.  , 1.  , 1.  ,\n",
       "       1.  , 1.  , 1.  , 1.  , 1.  , 1.  , 1.  , 1.  , 1.  , 1.  , 1.  ,\n",
       "       1.  , 1.  , 1.  , 1.  , 1.  , 1.  , 1.  , 1.  , 1.  , 1.  , 1.  ,\n",
       "       1.  , 1.  , 1.  , 1.  , 1.  , 1.  , 1.  , 1.  , 1.  , 1.  , 1.  ,\n",
       "       1.  , 1.  , 1.  , 1.  , 1.  , 1.  , 1.  , 1.  , 1.  , 1.  , 1.  ])"
      ]
     },
     "execution_count": 45,
     "metadata": {},
     "output_type": "execute_result"
    }
   ],
   "source": [
    "not_op"
   ]
  },
  {
   "cell_type": "code",
   "execution_count": 46,
   "metadata": {
    "colab": {
     "base_uri": "https://localhost:8080/",
     "height": 269
    },
    "executionInfo": {
     "elapsed": 509,
     "status": "ok",
     "timestamp": 1648093668988,
     "user": {
      "displayName": "Ardy Seto Priambodo",
      "photoUrl": "https://lh3.googleusercontent.com/a-/AOh14Gh8s8dWmJlOdpJGl7_Lco9nbquLC4L9cE4h1xg5=s64",
      "userId": "15348853583284793242"
     },
     "user_tz": -420
    },
    "id": "NOAMxeDAJfrr",
    "outputId": "65f7aff4-1692-4911-8bb9-4ddc1b48b2a3"
   },
   "outputs": [
    {
     "data": {
      "image/png": "[encoded data removed]",
      "text/plain": [
       "<Figure size 432x288 with 1 Axes>"
      ]
     },
     "metadata": {
      "needs_background": "light"
     },
     "output_type": "display_data"
    }
   ],
   "source": [
    "plt.ylim([0,1])\n",
    "plt.plot(x_qual, not_op, linewidth=5);\n",
    "plt.plot(x_qual, qual_lo);"
   ]
  }
 ],
 "metadata": {
  "colab": {
   "authorship_tag": "ABX9TyOCskCMdoVrvfThJVXGp51T",
   "name": "labsheet skc - 3d fuzzy logic operation - skfuzzy",
   "provenance": []
  },
  "kernelspec": {
   "display_name": "Python 3 (ipykernel)",
   "language": "python",
   "name": "python3"
  },
  "language_info": {
   "codemirror_mode": {
    "name": "ipython",
    "version": 3
   },
   "file_extension": ".py",
   "mimetype": "text/x-python",
   "name": "python",
   "nbconvert_exporter": "python",
   "pygments_lexer": "ipython3",
   "version": "3.9.16"
  }
 },
 "nbformat": 4,
 "nbformat_minor": 4
}
