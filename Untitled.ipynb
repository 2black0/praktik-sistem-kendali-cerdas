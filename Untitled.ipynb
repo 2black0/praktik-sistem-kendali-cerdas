{
 "cells": [
  {
   "cell_type": "markdown",
   "id": "8f89b718-7de6-4bad-9fee-65592e24f2c5",
   "metadata": {},
   "source": [
    "# Handwriting Recognizion"
   ]
  },
  {
   "cell_type": "markdown",
   "id": "fc1b9250-2cb2-46e3-b7b7-fbffc3c585e7",
   "metadata": {},
   "source": [
    "Source: https://deepnote.com/@davidespalla/Recognizing-handwriting-with-Tensorflow-and-OpenCV-cfc4acf5-188e-4d3b-bdb5-a13aa463d2b0"
   ]
  },
  {
   "cell_type": "code",
   "execution_count": 5,
   "id": "f6dd6ada-4d5a-4eb0-829e-91722368ce26",
   "metadata": {},
   "outputs": [
    {
     "name": "stdout",
     "output_type": "stream",
     "text": [
      "2.10.0\n"
     ]
    }
   ],
   "source": [
    "import tensorflow as tf\n",
    "from tensorflow import keras\n",
    "import numpy as np\n",
    "import pandas as pd\n",
    "print(tf.__version__)"
   ]
  },
  {
   "cell_type": "code",
   "execution_count": null,
   "id": "f7e6f220-9cd7-4c70-86e0-c16df7cdb580",
   "metadata": {},
   "outputs": [],
   "source": []
  }
 ],
 "metadata": {
  "kernelspec": {
   "display_name": "Python 3 (ipykernel)",
   "language": "python",
   "name": "python3"
  },
  "language_info": {
   "codemirror_mode": {
    "name": "ipython",
    "version": 3
   },
   "file_extension": ".py",
   "mimetype": "text/x-python",
   "name": "python",
   "nbconvert_exporter": "python",
   "pygments_lexer": "ipython3",
   "version": "3.9.13"
  }
 },
 "nbformat": 4,
 "nbformat_minor": 5
}
