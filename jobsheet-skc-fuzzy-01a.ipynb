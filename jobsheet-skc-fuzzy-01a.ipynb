{
 "cells": [
  {
   "cell_type": "markdown",
   "id": "0cd3f1c1-cb88-4e9d-8ada-aefde2b61fd3",
   "metadata": {},
   "source": [
    "# Membership Function"
   ]
  },
  {
   "cell_type": "markdown",
   "id": "16ead10c-235e-4366-903b-2ef903448f29",
   "metadata": {},
   "source": [
    "Fuzzy membership function is used to convert the crisp input provided to the fuzzy inference system. Fuzzy logic it self is not fuzzy, rather it deals with the fuzziness in the data. And this fuzziness in the data is best described by the fuzzy membership function\n",
    "\n",
    "Fuzzy inference system is the core part of any fuzzy logic system. Fuzzification is the first step in Fuzzy Inference System.\n",
    "\n",
    "Formally, a membership function for a fuzzy set A on the universe of discourse X is defined as µA: X → [0, 1], where each element of X is mapped to a value between 0 and 1. This value, called membership value or degree of membership, quantifies the grade of membership of the element in X to the fuzzy set A. Here, X is the universal set and A is the fuzzy set derived from X.\n",
    "\n",
    "Fuzzy membership function is the graphical way of visualizing degree of membership of any value in given fuzzy set. In the graph, X axis represents the universe of discourse and Y axis represents the degree of membership in the range [0, 1]\n",
    "\n",
    "In following discussion, we will see various fuzzy membership functions. These functions are mathematically very simple. Fuzzy logic is meant to deal with the fuzziness, so use of complex membership function would not add much precision in final output."
   ]
  },
  {
   "cell_type": "markdown",
   "id": "a229be46-8160-4648-b725-39f65da309a7",
   "metadata": {},
   "source": [
    "![alternative text](images/membership-function.png)"
   ]
  },
  {
   "cell_type": "markdown",
   "id": "ecae7bbc-2965-4226-95ae-53d9ecd16cbf",
   "metadata": {},
   "source": [
    "## Triangle"
   ]
  },
  {
   "cell_type": "markdown",
   "id": "695f3bae-eaf7-4e7a-8b27-69c785b360a5",
   "metadata": {},
   "source": [
    "![alternative text](images/triangle-mf.png)"
   ]
  },
  {
   "cell_type": "markdown",
   "id": "e8e9837c-43f3-4953-9640-3da5bbf49cd4",
   "metadata": {},
   "source": [
    "![alternative text](images/triangle-mf-example.png)"
   ]
  },
  {
   "cell_type": "markdown",
   "id": "f13a083e-4520-429e-ad60-ac2550a1839c",
   "metadata": {},
   "source": [
    "## Trapezoidal"
   ]
  },
  {
   "cell_type": "markdown",
   "id": "257568af-a3af-4515-9cec-9c8c12d4f2bf",
   "metadata": {},
   "source": [
    "![alternative text](images/trapezoidal-mf.png)"
   ]
  },
  {
   "cell_type": "markdown",
   "id": "e8865c45-9909-415c-91fe-ba503939eb3f",
   "metadata": {},
   "source": [
    "![alternative text](images/trapezoidal-mf-example.png)"
   ]
  },
  {
   "cell_type": "markdown",
   "id": "07a1d604-6cd1-4280-8cab-722abde328ab",
   "metadata": {},
   "source": [
    "## Gaussian"
   ]
  },
  {
   "cell_type": "markdown",
   "id": "117f8720-646f-4086-962b-9d9e17f9af2d",
   "metadata": {},
   "source": [
    "![alternative text](images/gaussian-mf.png)"
   ]
  },
  {
   "cell_type": "markdown",
   "id": "7c2fb72f-f75c-4673-869f-3f65234cce5e",
   "metadata": {},
   "source": [
    "![alternative text](images/gaussian-mf-example.png)"
   ]
  },
  {
   "cell_type": "markdown",
   "id": "970936ef-2360-4510-a849-52c4e6253ce0",
   "metadata": {},
   "source": [
    "# Assignment"
   ]
  },
  {
   "cell_type": "markdown",
   "id": "e9e021f8-5b93-4154-bc0e-43c73011ce3f",
   "metadata": {},
   "source": [
    "1. Write a program to create a triangular membership function like the image below and calculate the membership function value of 6, you have to plot an image below!"
   ]
  },
  {
   "cell_type": "markdown",
   "id": "fcc69b14-8d86-4c64-9971-1fec716452f4",
   "metadata": {},
   "source": [
    "![alternative text](images/triangle-mf-manual.png)"
   ]
  },
  {
   "cell_type": "markdown",
   "id": "92f23e1e-a448-45e5-8dea-bf38c073ed23",
   "metadata": {},
   "source": [
    "2. Write a program to create a trapezoidal membership function like the image below and calculate the membership function value of 7, you have to plot an image below!"
   ]
  },
  {
   "cell_type": "markdown",
   "id": "5dcc3ed4-a830-4999-8276-924e1d8abafa",
   "metadata": {},
   "source": [
    "![alternative text](images/trapezoidal-mf-manual.png)"
   ]
  },
  {
   "cell_type": "markdown",
   "id": "b75fce19-c33c-4cbc-b5ef-36b4454fa807",
   "metadata": {},
   "source": [
    "3. Based on skfuzzy documentation (https://pythonhosted.org/scikit-fuzzy/api/skfuzzy.membership.html) write a program to define **triangle, trapezoidal, gaussian, generalized bell, and sigmoid** membership functions"
   ]
  },
  {
   "cell_type": "markdown",
   "id": "2f4025f1-6077-4b5b-9e0a-1c1e881a4d51",
   "metadata": {},
   "source": [
    "![alternative text](images/skfuzzy.membership.png)"
   ]
  }
 ],
 "metadata": {
  "kernelspec": {
   "display_name": "Python 3 (ipykernel)",
   "language": "python",
   "name": "python3"
  },
  "language_info": {
   "codemirror_mode": {
    "name": "ipython",
    "version": 3
   },
   "file_extension": ".py",
   "mimetype": "text/x-python",
   "name": "python",
   "nbconvert_exporter": "python",
   "pygments_lexer": "ipython3",
   "version": "3.9.16"
  }
 },
 "nbformat": 4,
 "nbformat_minor": 5
}
