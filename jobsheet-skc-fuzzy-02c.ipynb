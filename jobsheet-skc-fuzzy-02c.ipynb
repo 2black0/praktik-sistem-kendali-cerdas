{
 "cells": [
  {
   "cell_type": "markdown",
   "metadata": {
    "id": "qOIQmC9QRDRx"
   },
   "source": [
    "# Defuzzification with SKFuzzy"
   ]
  },
  {
   "cell_type": "code",
   "execution_count": 1,
   "metadata": {
    "executionInfo": {
     "elapsed": 566,
     "status": "ok",
     "timestamp": 1648093839768,
     "user": {
      "displayName": "Ardy Seto Priambodo",
      "photoUrl": "https://lh3.googleusercontent.com/a-/AOh14Gh8s8dWmJlOdpJGl7_Lco9nbquLC4L9cE4h1xg5=s64",
      "userId": "15348853583284793242"
     },
     "user_tz": -420
    },
    "id": "mCIBK-aLRHIx",
    "tags": []
   },
   "outputs": [],
   "source": [
    "import numpy as np\n",
    "import skfuzzy as fuzz\n",
    "import matplotlib.pyplot as plt"
   ]
  },
  {
   "cell_type": "markdown",
   "metadata": {
    "id": "bDA1KQgaRMU9"
   },
   "source": [
    "# Create fuzzy set"
   ]
  },
  {
   "cell_type": "code",
   "execution_count": 2,
   "metadata": {
    "executionInfo": {
     "elapsed": 9,
     "status": "ok",
     "timestamp": 1648093842150,
     "user": {
      "displayName": "Ardy Seto Priambodo",
      "photoUrl": "https://lh3.googleusercontent.com/a-/AOh14Gh8s8dWmJlOdpJGl7_Lco9nbquLC4L9cE4h1xg5=s64",
      "userId": "15348853583284793242"
     },
     "user_tz": -420
    },
    "id": "MsBvME-IRa8P",
    "tags": []
   },
   "outputs": [],
   "source": [
    "from skfuzzy import control as ctrl"
   ]
  },
  {
   "cell_type": "code",
   "execution_count": 3,
   "metadata": {
    "executionInfo": {
     "elapsed": 598,
     "status": "ok",
     "timestamp": 1648093847745,
     "user": {
      "displayName": "Ardy Seto Priambodo",
      "photoUrl": "https://lh3.googleusercontent.com/a-/AOh14Gh8s8dWmJlOdpJGl7_Lco9nbquLC4L9cE4h1xg5=s64",
      "userId": "15348853583284793242"
     },
     "user_tz": -420
    },
    "id": "KekuANEOmUwT",
    "tags": []
   },
   "outputs": [],
   "source": [
    "x = np.arange(0, 5.05, 0.1)"
   ]
  },
  {
   "cell_type": "code",
   "execution_count": 4,
   "metadata": {
    "colab": {
     "base_uri": "https://localhost:8080/"
    },
    "executionInfo": {
     "elapsed": 14,
     "status": "ok",
     "timestamp": 1648093849910,
     "user": {
      "displayName": "Ardy Seto Priambodo",
      "photoUrl": "https://lh3.googleusercontent.com/a-/AOh14Gh8s8dWmJlOdpJGl7_Lco9nbquLC4L9cE4h1xg5=s64",
      "userId": "15348853583284793242"
     },
     "user_tz": -420
    },
    "id": "p9B2JT_omVxU",
    "outputId": "30b35677-d235-4b63-9c3c-071e210b04ff",
    "tags": []
   },
   "outputs": [
    {
     "data": {
      "text/plain": [
       "array([0. , 0.1, 0.2, 0.3, 0.4, 0.5, 0.6, 0.7, 0.8, 0.9, 1. , 1.1, 1.2,\n",
       "       1.3, 1.4, 1.5, 1.6, 1.7, 1.8, 1.9, 2. , 2.1, 2.2, 2.3, 2.4, 2.5,\n",
       "       2.6, 2.7, 2.8, 2.9, 3. , 3.1, 3.2, 3.3, 3.4, 3.5, 3.6, 3.7, 3.8,\n",
       "       3.9, 4. , 4.1, 4.2, 4.3, 4.4, 4.5, 4.6, 4.7, 4.8, 4.9, 5. ])"
      ]
     },
     "execution_count": 4,
     "metadata": {},
     "output_type": "execute_result"
    }
   ],
   "source": [
    "x"
   ]
  },
  {
   "cell_type": "code",
   "execution_count": 5,
   "metadata": {
    "executionInfo": {
     "elapsed": 4,
     "status": "ok",
     "timestamp": 1648093850574,
     "user": {
      "displayName": "Ardy Seto Priambodo",
      "photoUrl": "https://lh3.googleusercontent.com/a-/AOh14Gh8s8dWmJlOdpJGl7_Lco9nbquLC4L9cE4h1xg5=s64",
      "userId": "15348853583284793242"
     },
     "user_tz": -420
    },
    "id": "OKXR8QNPRLl1",
    "tags": []
   },
   "outputs": [],
   "source": [
    "mfx = fuzz.trapmf(x, [2, 2.5, 3, 4.5])"
   ]
  },
  {
   "cell_type": "code",
   "execution_count": 6,
   "metadata": {
    "colab": {
     "base_uri": "https://localhost:8080/"
    },
    "executionInfo": {
     "elapsed": 9,
     "status": "ok",
     "timestamp": 1648093851152,
     "user": {
      "displayName": "Ardy Seto Priambodo",
      "photoUrl": "https://lh3.googleusercontent.com/a-/AOh14Gh8s8dWmJlOdpJGl7_Lco9nbquLC4L9cE4h1xg5=s64",
      "userId": "15348853583284793242"
     },
     "user_tz": -420
    },
    "id": "aeYEg2Zgmo27",
    "outputId": "8eba1dfc-0443-479d-ffb4-a70426b5cecd",
    "tags": []
   },
   "outputs": [
    {
     "data": {
      "text/plain": [
       "array([0.        , 0.        , 0.        , 0.        , 0.        ,\n",
       "       0.        , 0.        , 0.        , 0.        , 0.        ,\n",
       "       0.        , 0.        , 0.        , 0.        , 0.        ,\n",
       "       0.        , 0.        , 0.        , 0.        , 0.        ,\n",
       "       0.        , 0.2       , 0.4       , 0.6       , 0.8       ,\n",
       "       1.        , 1.        , 1.        , 1.        , 1.        ,\n",
       "       1.        , 0.93333333, 0.86666667, 0.8       , 0.73333333,\n",
       "       0.66666667, 0.6       , 0.53333333, 0.46666667, 0.4       ,\n",
       "       0.33333333, 0.26666667, 0.2       , 0.13333333, 0.06666667,\n",
       "       0.        , 0.        , 0.        , 0.        , 0.        ,\n",
       "       0.        ])"
      ]
     },
     "execution_count": 6,
     "metadata": {},
     "output_type": "execute_result"
    }
   ],
   "source": [
    "mfx"
   ]
  },
  {
   "cell_type": "code",
   "execution_count": 7,
   "metadata": {
    "colab": {
     "base_uri": "https://localhost:8080/",
     "height": 265
    },
    "executionInfo": {
     "elapsed": 8,
     "status": "ok",
     "timestamp": 1648093852958,
     "user": {
      "displayName": "Ardy Seto Priambodo",
      "photoUrl": "https://lh3.googleusercontent.com/a-/AOh14Gh8s8dWmJlOdpJGl7_Lco9nbquLC4L9cE4h1xg5=s64",
      "userId": "15348853583284793242"
     },
     "user_tz": -420
    },
    "id": "rIDzI2uDl_vj",
    "outputId": "f2a65e96-99b8-4919-bd0c-620e349d0215",
    "tags": []
   },
   "outputs": [
    {
     "data": {
      "image/png": "[encoded data removed]",
      "text/plain": [
       "<Figure size 640x480 with 1 Axes>"
      ]
     },
     "metadata": {},
     "output_type": "display_data"
    }
   ],
   "source": [
    "plt.plot(x, mfx);"
   ]
  },
  {
   "cell_type": "markdown",
   "metadata": {
    "id": "jh_e0vr7ScL_"
   },
   "source": [
    "# Centroid"
   ]
  },
  {
   "cell_type": "code",
   "execution_count": 8,
   "metadata": {
    "id": "jFPQ4mv7SeQX",
    "tags": []
   },
   "outputs": [],
   "source": [
    "defuzz_centroid = fuzz.defuzz(x, mfx, 'centroid')"
   ]
  },
  {
   "cell_type": "code",
   "execution_count": 9,
   "metadata": {
    "colab": {
     "base_uri": "https://localhost:8080/"
    },
    "executionInfo": {
     "elapsed": 14,
     "status": "ok",
     "timestamp": 1648093923095,
     "user": {
      "displayName": "Ardy Seto Priambodo",
      "photoUrl": "https://lh3.googleusercontent.com/a-/AOh14Gh8s8dWmJlOdpJGl7_Lco9nbquLC4L9cE4h1xg5=s64",
      "userId": "15348853583284793242"
     },
     "user_tz": -420
    },
    "id": "61MKy06zoBjO",
    "outputId": "a861a64e-ba08-49f8-8fd1-34d36d08947e",
    "tags": []
   },
   "outputs": [
    {
     "data": {
      "text/plain": [
       "3.0555555555555554"
      ]
     },
     "execution_count": 9,
     "metadata": {},
     "output_type": "execute_result"
    }
   ],
   "source": [
    "defuzz_centroid"
   ]
  },
  {
   "cell_type": "code",
   "execution_count": 10,
   "metadata": {
    "executionInfo": {
     "elapsed": 584,
     "status": "ok",
     "timestamp": 1648093935837,
     "user": {
      "displayName": "Ardy Seto Priambodo",
      "photoUrl": "https://lh3.googleusercontent.com/a-/AOh14Gh8s8dWmJlOdpJGl7_Lco9nbquLC4L9cE4h1xg5=s64",
      "userId": "15348853583284793242"
     },
     "user_tz": -420
    },
    "id": "K5ZS3c9oS9rz",
    "tags": []
   },
   "outputs": [],
   "source": [
    "ymax_centroid = fuzz.interp_membership(x, mfx, defuzz_centroid)"
   ]
  },
  {
   "cell_type": "code",
   "execution_count": 11,
   "metadata": {
    "colab": {
     "base_uri": "https://localhost:8080/",
     "height": 265
    },
    "executionInfo": {
     "elapsed": 7,
     "status": "ok",
     "timestamp": 1648093936357,
     "user": {
      "displayName": "Ardy Seto Priambodo",
      "photoUrl": "https://lh3.googleusercontent.com/a-/AOh14Gh8s8dWmJlOdpJGl7_Lco9nbquLC4L9cE4h1xg5=s64",
      "userId": "15348853583284793242"
     },
     "user_tz": -420
    },
    "id": "wDwUOLJjSgtm",
    "outputId": "82135c72-2b1f-4185-d0d6-6edbe67e36e7",
    "tags": []
   },
   "outputs": [
    {
     "data": {
      "image/png": "[encoded data removed]",
      "text/plain": [
       "<Figure size 640x480 with 1 Axes>"
      ]
     },
     "metadata": {},
     "output_type": "display_data"
    }
   ],
   "source": [
    "plt.plot(x, mfx);\n",
    "plt.vlines(defuzz_centroid, 0, ymax_centroid, color='r');"
   ]
  },
  {
   "cell_type": "markdown",
   "metadata": {
    "id": "A3BJJTT8TMgo"
   },
   "source": [
    "# bisector"
   ]
  },
  {
   "cell_type": "code",
   "execution_count": 12,
   "metadata": {
    "executionInfo": {
     "elapsed": 3,
     "status": "ok",
     "timestamp": 1648094004544,
     "user": {
      "displayName": "Ardy Seto Priambodo",
      "photoUrl": "https://lh3.googleusercontent.com/a-/AOh14Gh8s8dWmJlOdpJGl7_Lco9nbquLC4L9cE4h1xg5=s64",
      "userId": "15348853583284793242"
     },
     "user_tz": -420
    },
    "id": "aEMMJbIPTPpx",
    "tags": []
   },
   "outputs": [],
   "source": [
    "defuzz_bisector = fuzz.defuzz(x, mfx, 'bisector')"
   ]
  },
  {
   "cell_type": "code",
   "execution_count": 13,
   "metadata": {
    "colab": {
     "base_uri": "https://localhost:8080/"
    },
    "executionInfo": {
     "elapsed": 5,
     "status": "ok",
     "timestamp": 1648094006074,
     "user": {
      "displayName": "Ardy Seto Priambodo",
      "photoUrl": "https://lh3.googleusercontent.com/a-/AOh14Gh8s8dWmJlOdpJGl7_Lco9nbquLC4L9cE4h1xg5=s64",
      "userId": "15348853583284793242"
     },
     "user_tz": -420
    },
    "id": "f99-tEWWocmN",
    "outputId": "0a74aa00-3c8f-4310-e084-af2a69b47ed8",
    "tags": []
   },
   "outputs": [
    {
     "data": {
      "text/plain": [
       "3.0"
      ]
     },
     "execution_count": 13,
     "metadata": {},
     "output_type": "execute_result"
    }
   ],
   "source": [
    "defuzz_bisector"
   ]
  },
  {
   "cell_type": "code",
   "execution_count": 14,
   "metadata": {
    "executionInfo": {
     "elapsed": 4,
     "status": "ok",
     "timestamp": 1648094010547,
     "user": {
      "displayName": "Ardy Seto Priambodo",
      "photoUrl": "https://lh3.googleusercontent.com/a-/AOh14Gh8s8dWmJlOdpJGl7_Lco9nbquLC4L9cE4h1xg5=s64",
      "userId": "15348853583284793242"
     },
     "user_tz": -420
    },
    "id": "QJTfFW6iTR6t",
    "tags": []
   },
   "outputs": [],
   "source": [
    "ymax_bisector = fuzz.interp_membership(x, mfx, defuzz_bisector)"
   ]
  },
  {
   "cell_type": "code",
   "execution_count": 15,
   "metadata": {
    "colab": {
     "base_uri": "https://localhost:8080/",
     "height": 265
    },
    "executionInfo": {
     "elapsed": 653,
     "status": "ok",
     "timestamp": 1648094012921,
     "user": {
      "displayName": "Ardy Seto Priambodo",
      "photoUrl": "https://lh3.googleusercontent.com/a-/AOh14Gh8s8dWmJlOdpJGl7_Lco9nbquLC4L9cE4h1xg5=s64",
      "userId": "15348853583284793242"
     },
     "user_tz": -420
    },
    "id": "ydkWu7naTR9Z",
    "outputId": "b6f7b593-b3a1-4712-b0e7-92e8b6875cfe",
    "tags": []
   },
   "outputs": [
    {
     "data": {
      "image/png": "[encoded data removed]",
      "text/plain": [
       "<Figure size 640x480 with 1 Axes>"
      ]
     },
     "metadata": {},
     "output_type": "display_data"
    }
   ],
   "source": [
    "plt.plot(x, mfx);\n",
    "plt.vlines(defuzz_bisector, 0, ymax_bisector, color='r');"
   ]
  },
  {
   "cell_type": "markdown",
   "metadata": {
    "id": "o4Ep3TD8TX6t"
   },
   "source": [
    "# mean of maximum (mom)"
   ]
  },
  {
   "cell_type": "code",
   "execution_count": 16,
   "metadata": {
    "executionInfo": {
     "elapsed": 468,
     "status": "ok",
     "timestamp": 1648094048524,
     "user": {
      "displayName": "Ardy Seto Priambodo",
      "photoUrl": "https://lh3.googleusercontent.com/a-/AOh14Gh8s8dWmJlOdpJGl7_Lco9nbquLC4L9cE4h1xg5=s64",
      "userId": "15348853583284793242"
     },
     "user_tz": -420
    },
    "id": "vKYhtYv4TSAM",
    "tags": []
   },
   "outputs": [],
   "source": [
    "defuzz_mom = fuzz.defuzz(x, mfx, 'mom')"
   ]
  },
  {
   "cell_type": "code",
   "execution_count": 17,
   "metadata": {
    "colab": {
     "base_uri": "https://localhost:8080/"
    },
    "executionInfo": {
     "elapsed": 5,
     "status": "ok",
     "timestamp": 1648094049008,
     "user": {
      "displayName": "Ardy Seto Priambodo",
      "photoUrl": "https://lh3.googleusercontent.com/a-/AOh14Gh8s8dWmJlOdpJGl7_Lco9nbquLC4L9cE4h1xg5=s64",
      "userId": "15348853583284793242"
     },
     "user_tz": -420
    },
    "id": "o55TKmL9ouwJ",
    "outputId": "e55d9968-5e54-4d64-fc9e-2ac4dd4919e3",
    "tags": []
   },
   "outputs": [
    {
     "data": {
      "text/plain": [
       "2.75"
      ]
     },
     "execution_count": 17,
     "metadata": {},
     "output_type": "execute_result"
    }
   ],
   "source": [
    "defuzz_mom"
   ]
  },
  {
   "cell_type": "code",
   "execution_count": 18,
   "metadata": {
    "executionInfo": {
     "elapsed": 6,
     "status": "ok",
     "timestamp": 1648094052591,
     "user": {
      "displayName": "Ardy Seto Priambodo",
      "photoUrl": "https://lh3.googleusercontent.com/a-/AOh14Gh8s8dWmJlOdpJGl7_Lco9nbquLC4L9cE4h1xg5=s64",
      "userId": "15348853583284793242"
     },
     "user_tz": -420
    },
    "id": "dumS8EXpSEn4",
    "tags": []
   },
   "outputs": [],
   "source": [
    "ymax_mom = fuzz.interp_membership(x, mfx, defuzz_mom)"
   ]
  },
  {
   "cell_type": "code",
   "execution_count": 19,
   "metadata": {
    "colab": {
     "base_uri": "https://localhost:8080/",
     "height": 265
    },
    "executionInfo": {
     "elapsed": 6,
     "status": "ok",
     "timestamp": 1648094053324,
     "user": {
      "displayName": "Ardy Seto Priambodo",
      "photoUrl": "https://lh3.googleusercontent.com/a-/AOh14Gh8s8dWmJlOdpJGl7_Lco9nbquLC4L9cE4h1xg5=s64",
      "userId": "15348853583284793242"
     },
     "user_tz": -420
    },
    "id": "I2AOCIZXThF1",
    "outputId": "d2271ba9-6cef-4635-d627-5863c1831c48",
    "tags": []
   },
   "outputs": [
    {
     "data": {
      "image/png": "[encoded data removed]",
      "text/plain": [
       "<Figure size 640x480 with 1 Axes>"
      ]
     },
     "metadata": {},
     "output_type": "display_data"
    }
   ],
   "source": [
    "plt.plot(x, mfx);\n",
    "plt.vlines(defuzz_mom, 0, ymax_mom, color='r');"
   ]
  },
  {
   "cell_type": "markdown",
   "metadata": {
    "id": "pgXESgjYTj-a"
   },
   "source": [
    "# Plot all in one canvas"
   ]
  },
  {
   "cell_type": "code",
   "execution_count": 20,
   "metadata": {
    "colab": {
     "base_uri": "https://localhost:8080/",
     "height": 265
    },
    "executionInfo": {
     "elapsed": 538,
     "status": "ok",
     "timestamp": 1648094064620,
     "user": {
      "displayName": "Ardy Seto Priambodo",
      "photoUrl": "https://lh3.googleusercontent.com/a-/AOh14Gh8s8dWmJlOdpJGl7_Lco9nbquLC4L9cE4h1xg5=s64",
      "userId": "15348853583284793242"
     },
     "user_tz": -420
    },
    "id": "uEUb0tBZTim2",
    "outputId": "46f2e478-8d77-448c-d7a6-fb9663bde360",
    "tags": []
   },
   "outputs": [
    {
     "data": {
      "image/png": "[encoded data removed]",
      "text/plain": [
       "<Figure size 640x480 with 1 Axes>"
      ]
     },
     "metadata": {},
     "output_type": "display_data"
    }
   ],
   "source": [
    "plt.plot(x, mfx);\n",
    "plt.vlines(defuzz_centroid, 0, ymax_centroid, label='centroid', color='r');\n",
    "plt.vlines(defuzz_bisector, 0, ymax_bisector, label='bisector', color='g');\n",
    "plt.vlines(defuzz_mom, 0, ymax_mom, label='mom',color='c');\n",
    "plt.legend(loc=2);"
   ]
  },
  {
   "cell_type": "markdown",
   "metadata": {},
   "source": [
    "# Latihan"
   ]
  },
  {
   "cell_type": "markdown",
   "metadata": {},
   "source": [
    "1. Buatlah 3 buah membership function dengan tipe yang berbeda, dan carilah deffuzification dengan cara:\n",
    " - centroid\n",
    " - bisector\n",
    " - mean of max\n",
    " - min of max\n",
    " - max of max"
   ]
  }
 ],
 "metadata": {
  "colab": {
   "authorship_tag": "ABX9TyOIKfYaVDneMPK7s5VLB6cD",
   "name": "labsheet skc - 3e defuzzification - skfuzzy",
   "provenance": []
  },
  "kernelspec": {
   "display_name": "Python 3 (ipykernel)",
   "language": "python",
   "name": "python3"
  },
  "language_info": {
   "codemirror_mode": {
    "name": "ipython",
    "version": 3
   },
   "file_extension": ".py",
   "mimetype": "text/x-python",
   "name": "python",
   "nbconvert_exporter": "python",
   "pygments_lexer": "ipython3",
   "version": "3.9.16"
  }
 },
 "nbformat": 4,
 "nbformat_minor": 4
}
