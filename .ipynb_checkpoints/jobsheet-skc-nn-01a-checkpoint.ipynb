{
 "cells": [
  {
   "cell_type": "markdown",
   "id": "e5d5e0f9-979a-4f77-8e84-32619021a767",
   "metadata": {},
   "source": [
    "# Neural Network"
   ]
  },
  {
   "cell_type": "markdown",
   "id": "be3df58d-0dc7-4732-8585-871c031b0ad0",
   "metadata": {},
   "source": [
    "Neural network atau jaringan saraf adalah model matematika yang terinspirasi dari cara kerja otak manusia. Model ini terdiri dari banyak unit kecil yang disebut \"neuron\" yang terhubung satu sama lain melalui jaringan koneksi yang kompleks. Setiap neuron menerima input dari neuron lainnya dan menghasilkan output berdasarkan fungsi aktivasi yang ditentukan. Output dari satu neuron kemudian menjadi input untuk neuron lainnya, membentuk rangkaian pemrosesan informasi yang kompleks.\n",
    "\n",
    "Neural network digunakan dalam berbagai aplikasi seperti pengenalan gambar, pengenalan suara, pemrosesan bahasa alami, analisis data, dan banyak lagi. Dalam pembelajaran mesin, neural network digunakan untuk mengekstraksi fitur dari data dan mempelajari hubungan yang kompleks antara input dan output. Proses pembelajaran ini melibatkan menyesuaikan bobot koneksi antara neuron untuk mencapai hasil yang diinginkan."
   ]
  },
  {
   "cell_type": "markdown",
   "id": "14196594-9d4e-41bf-ae7f-b0d8eeff1d7e",
   "metadata": {},
   "source": [
    "## Aplikasi neural network di berbagai bidang"
   ]
  },
  {
   "cell_type": "markdown",
   "id": "3f04fa4b-1bf5-485f-9a1d-a59df3c80875",
   "metadata": {},
   "source": [
    "1. Computer Vision\n",
    "Neural network digunakan dalam pengenalan gambar dan video. Contohnya, convolutional neural network (CNN) digunakan untuk klasifikasi gambar dan deteksi objek dalam gambar. Salah satu aplikasi yang populer adalah deteksi wajah pada kamera CCTV dan kamera smartphone.\n",
    "\n",
    "2. Natural Language Processing\n",
    "Neural network digunakan untuk pemrosesan bahasa alami seperti penerjemahan mesin, analisis sentimen, dan pengenalan suara. Contohnya, recurrent neural network (RNN) digunakan untuk penerjemahan mesin dan speech recognition.\n",
    "\n",
    "3. Medicine\n",
    "Neural network digunakan dalam diagnosis medis, penelitian obat, dan pengobatan pasien. Contohnya, neural network digunakan untuk memprediksi hasil tes medis dan mengidentifikasi pasien yang berisiko terkena penyakit tertentu.\n",
    "\n",
    "4. Keuangan\n",
    "Neural network digunakan dalam prediksi harga saham, deteksi kecurangan, dan analisis risiko. Contohnya, neural network digunakan untuk mengidentifikasi pola dalam data pasar saham dan memprediksi harga saham di masa depan.\n",
    "\n",
    "5. Teknologi\n",
    "Neural network digunakan dalam berbagai teknologi seperti self-driving car, pengenalan suara dan tulisan tangan, dan asisten virtual. Contohnya, neural network digunakan untuk mengenali objek dan pergerakan di sekitar mobil otonom.\n",
    "\n",
    "6. Industri\n",
    "Neural network digunakan dalam otomatisasi dan optimasi proses industri seperti manufaktur dan transportasi. Contohnya, neural network digunakan untuk memprediksi kegagalan mesin dan memperbaiki proses produksi.\n",
    "\n",
    "7. Gaming\n",
    "Neural network digunakan dalam game untuk membuat bot yang cerdas dan beradaptasi dengan permainan. Contohnya, neural network digunakan dalam game catur dan game strategi lainnya untuk membuat bot yang bisa belajar dan meningkatkan kemampuan permainannya.\n",
    "\n",
    "Dalam setiap aplikasi, neural network membantu menyelesaikan masalah yang kompleks dan mempercepat proses pengambilan keputusan."
   ]
  },
  {
   "cell_type": "markdown",
   "id": "46bf10b7-b063-4a83-9c9b-4932f9479d3e",
   "metadata": {},
   "source": [
    "## Dasar-dasar Neural Network"
   ]
  },
  {
   "cell_type": "markdown",
   "id": "b66fd0d7-ddfe-4939-bd6c-f8877fbffac7",
   "metadata": {},
   "source": [
    "![alternative text](images/basic-neural-network.png)"
   ]
  },
  {
   "cell_type": "markdown",
   "id": "27a72fdf-350f-4039-9749-8d6491c306f1",
   "metadata": {},
   "source": [
    "Berikut adalah bagian-bagian dari neural network beserta penjelasannya:\n",
    "\n",
    "1. Input layer\n",
    "Input layer adalah bagian pertama dari neural network, yang menerima input data dalam bentuk vektor. Vektor input tersebut bisa berisi data seperti piksel gambar, angka, atau variabel lainnya.\n",
    "\n",
    "2. Hidden layer\n",
    "Hidden layer adalah layer di antara input layer dan output layer. Hidden layer terdiri dari beberapa neuron yang menerima input dari input layer dan menghasilkan output yang kemudian menjadi input untuk output layer. Jumlah hidden layer dan jumlah neuron di dalam setiap layer tergantung pada kompleksitas tugas yang ingin diselesaikan.\n",
    "\n",
    "3. Output layer\n",
    "Output layer adalah layer terakhir dari neural network yang menghasilkan output dari proses pemrosesan input. Output layer dapat menghasilkan satu nilai (dalam kasus regresi) atau beberapa nilai yang merepresentasikan kategori (dalam kasus klasifikasi).\n",
    "\n",
    "4. Bobot\n",
    "Bobot adalah variabel yang digunakan untuk menghubungkan neuron dalam satu layer dengan neuron di layer berikutnya. Bobot menggambarkan kekuatan koneksi antara neuron dalam satu layer dengan neuron di layer berikutnya. Selama proses pelatihan, bobot diatur sedemikian rupa sehingga neural network dapat menghasilkan output yang akurat.\n",
    "\n",
    "5. Fungsi aktivasi\n",
    "Fungsi aktivasi adalah fungsi matematis yang diterapkan pada output neuron dalam satu layer untuk menghasilkan output yang lebih berguna. Fungsi aktivasi umumnya non-linear dan beragam, seperti sigmoid, relu, dan tanh.\n",
    "\n",
    "6. Pelatihan\n",
    "Pelatihan adalah proses untuk mengoptimalkan bobot dalam neural network untuk menghasilkan output yang tepat. Proses pelatihan ini melibatkan perhitungan biaya (cost) dari output neural network yang dihasilkan dan memperbarui bobot jaringan dengan algoritma pelatihan yang sesuai seperti backpropagation dan stochastic gradient descent.\n",
    "\n",
    "7. Validasi dan evaluasi\n",
    "Setelah pelatihan, neural network perlu diuji pada data validasi yang belum pernah dilihat sebelumnya. Evaluasi dilakukan dengan menggunakan metrik seperti akurasi, presisi, recall, atau F1-score.\n",
    "\n",
    "Dalam setiap aplikasi, bagian-bagian neural network dapat berbeda-beda tergantung pada arsitektur dan kompleksitas tugas yang ingin diselesaikan. Namun, dasar-dasar tersebut tetap ada dan perlu dipahami untuk merancang dan mengoptimalkan neural network yang sesuai dengan tugas yang ingin diselesaikan."
   ]
  },
  {
   "cell_type": "markdown",
   "id": "5abc9e4d-8b66-4c72-b58c-b81999093b25",
   "metadata": {},
   "source": [
    "## Kode Neural Network Sederhana"
   ]
  },
  {
   "cell_type": "code",
   "execution_count": 3,
   "id": "9c82347c-979b-499e-8bee-9189506cb344",
   "metadata": {
    "tags": []
   },
   "outputs": [
    {
     "name": "stdout",
     "output_type": "stream",
     "text": [
      "Output Neural Network:\n",
      "[0.46502524]\n"
     ]
    }
   ],
   "source": [
    "import numpy as np\n",
    "\n",
    "# Fungsi sigmoid untuk aktivasi\n",
    "def sigmoid(x):\n",
    "    return 1 / (1 + np.exp(-x))\n",
    "\n",
    "# Input data\n",
    "X = np.array([0.1, 0.2, 0.3])\n",
    "\n",
    "# Bobot awal\n",
    "np.random.seed(1)\n",
    "W1 = 2 * np.random.random((3, 4)) - 1\n",
    "W2 = 2 * np.random.random((4, 1)) - 1\n",
    "\n",
    "# Feedforward\n",
    "layer1_output = sigmoid(np.dot(X, W1))\n",
    "layer2_output = sigmoid(np.dot(layer1_output, W2))\n",
    "\n",
    "# Output\n",
    "print(\"Output Neural Network:\")\n",
    "print(layer2_output)"
   ]
  },
  {
   "cell_type": "markdown",
   "id": "65c652e9-25be-4058-a454-42a6255ef3bc",
   "metadata": {},
   "source": [
    "Pada kode di atas, kita menggunakan fungsi sigmoid() untuk aktivasi pada setiap layer. Input data X diberikan pada input layer yang terdiri dari 3 node, sedangkan output layer terdiri dari 1 node. Bobot awal diinisialisasi dengan nilai acak menggunakan np.random.random(). Selanjutnya, kita melakukan feedforward dengan melakukan perkalian dot antara input X dengan bobot W1, kemudian melakukan aktivasi sigmoid pada layer 1. Selanjutnya, output dari layer 1 dihubungkan dengan bobot W2 untuk menghasilkan output pada layer 2. Hasil output dari neural network dicetak pada layar."
   ]
  },
  {
   "cell_type": "code",
   "execution_count": 2,
   "id": "4d5106d8-a9c9-42a3-9f4e-b70a23446e6b",
   "metadata": {
    "tags": []
   },
   "outputs": [
    {
     "name": "stdout",
     "output_type": "stream",
     "text": [
      "Error:0.4964100319027255\n",
      "Error:0.3957690799887487\n",
      "Error:0.028153342627526265\n",
      "Error:0.009836096933531348\n",
      "Error:0.005646768064635014\n",
      "Error:0.0037487569743475395\n",
      "\n",
      "Output setelah pelatihan:\n",
      "[[0.00248665]\n",
      " [0.99690102]\n",
      " [0.99715426]\n",
      " [0.00222052]]\n"
     ]
    }
   ],
   "source": [
    "import numpy as np\n",
    "\n",
    "# Fungsi sigmoid untuk aktivasi\n",
    "def sigmoid(x):\n",
    "    return 1 / (1 + np.exp(-x))\n",
    "\n",
    "# Input data\n",
    "X = np.array([[0, 0, 1],\n",
    "              [0, 1, 1],\n",
    "              [1, 0, 1],\n",
    "              [1, 1, 1]])\n",
    "\n",
    "# Output yang diharapkan\n",
    "y = np.array([[0],\n",
    "              [1],\n",
    "              [1],\n",
    "              [0]])\n",
    "\n",
    "# Bobot awal\n",
    "np.random.seed(1)\n",
    "syn0 = 2 * np.random.random((3, 4)) - 1\n",
    "syn1 = 2 * np.random.random((4, 1)) - 1\n",
    "\n",
    "# Pelatihan Neural Network\n",
    "for j in range(60000):\n",
    "\n",
    "    # Feedforward\n",
    "    l0 = X\n",
    "    l1 = sigmoid(np.dot(l0, syn0))\n",
    "    l2 = sigmoid(np.dot(l1, syn1))\n",
    "\n",
    "    # Perhitungan error\n",
    "    l2_error = y - l2\n",
    "\n",
    "    if (j % 10000) == 0:\n",
    "        print(\"Error:\" + str(np.mean(np.abs(l2_error))))\n",
    "\n",
    "    # Backpropagation\n",
    "    l2_delta = l2_error * sigmoid(l2) * (1 - sigmoid(l2))\n",
    "    l1_error = l2_delta.dot(syn1.T)\n",
    "    l1_delta = l1_error * sigmoid(l1) * (1 - sigmoid(l1))\n",
    "\n",
    "    # Update bobot\n",
    "    syn1 += l1.T.dot(l2_delta)\n",
    "    syn0 += l0.T.dot(l1_delta)\n",
    "\n",
    "print(\"\\nOutput setelah pelatihan:\")\n",
    "print(l2)"
   ]
  },
  {
   "cell_type": "code",
   "execution_count": null,
   "id": "5780d12f-1d5b-4484-a476-030afa970e54",
   "metadata": {},
   "outputs": [],
   "source": []
  }
 ],
 "metadata": {
  "kernelspec": {
   "display_name": "Python 3 (ipykernel)",
   "language": "python",
   "name": "python3"
  },
  "language_info": {
   "codemirror_mode": {
    "name": "ipython",
    "version": 3
   },
   "file_extension": ".py",
   "mimetype": "text/x-python",
   "name": "python",
   "nbconvert_exporter": "python",
   "pygments_lexer": "ipython3",
   "version": "3.9.16"
  }
 },
 "nbformat": 4,
 "nbformat_minor": 5
}
