{
 "cells": [
  {
   "cell_type": "code",
   "execution_count": 1,
   "id": "subtle-sunglasses",
   "metadata": {},
   "outputs": [],
   "source": [
    "import numpy as np"
   ]
  },
  {
   "cell_type": "code",
   "execution_count": 2,
   "id": "weighted-closer",
   "metadata": {},
   "outputs": [],
   "source": [
    "class NeuralNetwork():\n",
    "    def __init__(self):\n",
    "        # seeding for random number generation\n",
    "        np.random.seed(1)\n",
    "        #converting weights to a 3 by 1 matrix with values from -1 to 1 and mean of 0\n",
    "        self.synaptic_weights = 2 * np.random.random((3, 1)) - 1\n",
    "\n",
    "    def sigmoid(self, x):\n",
    "        #applying the sigmoid function\n",
    "        return 1 / (1 + np.exp(-x))\n",
    "\n",
    "    def sigmoid_derivative(self, x):\n",
    "        #computing derivative to the Sigmoid function\n",
    "        return x * (1 - x)\n",
    "\n",
    "    def train(self, training_inputs, training_outputs, training_iterations):\n",
    "        #training the model to make accurate predictions while adjusting weights continually\n",
    "        for iteration in range(training_iterations):\n",
    "            #siphon the training data via  the neuron\n",
    "            output = self.think(training_inputs)\n",
    "            #computing error rate for back-propagation\n",
    "            error = training_outputs - output\n",
    "            #performing weight adjustments\n",
    "            adjustments = np.dot(training_inputs.T, error * self.sigmoid_derivative(output))\n",
    "\n",
    "            self.synaptic_weights += adjustments\n",
    "\n",
    "    def think(self, inputs):\n",
    "        #passing the inputs via the neuron to get output   \n",
    "        #converting values to floats\n",
    "        inputs = inputs.astype(float)\n",
    "        output = self.sigmoid(np.dot(inputs, self.synaptic_weights))\n",
    "        return output"
   ]
  },
  {
   "cell_type": "code",
   "execution_count": 4,
   "id": "informational-rugby",
   "metadata": {},
   "outputs": [],
   "source": [
    "neural_network = NeuralNetwork()"
   ]
  },
  {
   "cell_type": "code",
   "execution_count": 5,
   "id": "chronic-approach",
   "metadata": {},
   "outputs": [
    {
     "name": "stdout",
     "output_type": "stream",
     "text": [
      "Menghasilkan Weights Pertama Secara Random: \n",
      "[[-0.16595599]\n",
      " [ 0.44064899]\n",
      " [-0.99977125]]\n"
     ]
    }
   ],
   "source": [
    "print(\"Menghasilkan Weights Pertama Secara Random: \")\n",
    "print(neural_network.synaptic_weights)"
   ]
  },
  {
   "cell_type": "code",
   "execution_count": 8,
   "id": "partial-gates",
   "metadata": {},
   "outputs": [
    {
     "data": {
      "text/plain": [
       "array([[0, 0, 1],\n",
       "       [1, 1, 1],\n",
       "       [1, 0, 1],\n",
       "       [0, 1, 1]])"
      ]
     },
     "execution_count": 8,
     "metadata": {},
     "output_type": "execute_result"
    }
   ],
   "source": [
    "#training data consisting of 4 examples--3 input values and 1 output\n",
    "training_inputs = np.array([[0,0,1], #1 0 0 1 0\n",
    "                            [1,1,1], #2 1 1 1 1\n",
    "                            [1,0,1], #3 1 0 1 1\n",
    "                            [0,1,1]])#4 0 1 1 0\n",
    "\n",
    "training_outputs = np.array([[0,1,1,0]]).T\n",
    "\n",
    "training_inputs"
   ]
  },
  {
   "cell_type": "code",
   "execution_count": 9,
   "id": "thousand-sodium",
   "metadata": {},
   "outputs": [
    {
     "data": {
      "text/plain": [
       "array([[0],\n",
       "       [1],\n",
       "       [1],\n",
       "       [0]])"
      ]
     },
     "execution_count": 9,
     "metadata": {},
     "output_type": "execute_result"
    }
   ],
   "source": [
    "training_outputs"
   ]
  },
  {
   "cell_type": "code",
   "execution_count": 12,
   "id": "important-football",
   "metadata": {},
   "outputs": [],
   "source": [
    "#training taking place\n",
    "neural_network.train(training_inputs, training_outputs, 20000)"
   ]
  },
  {
   "cell_type": "code",
   "execution_count": 13,
   "id": "skilled-granny",
   "metadata": {},
   "outputs": [
    {
     "name": "stdout",
     "output_type": "stream",
     "text": [
      "Weights Akhir Setelah Proses Training: \n",
      "[[11.08357409]\n",
      " [-0.20536384]\n",
      " [-5.33695387]]\n"
     ]
    }
   ],
   "source": [
    "print(\"Weights Akhir Setelah Proses Training: \")\n",
    "print(neural_network.synaptic_weights)"
   ]
  },
  {
   "cell_type": "code",
   "execution_count": 15,
   "id": "timely-attitude",
   "metadata": {},
   "outputs": [
    {
     "name": "stdin",
     "output_type": "stream",
     "text": [
      "Masukan 1:  1\n",
      "Masukan 2:  1\n",
      "Masukan 3:  0\n"
     ]
    },
    {
     "name": "stdout",
     "output_type": "stream",
     "text": [
      "Data Input Terbaru:  1 1 0\n",
      "Output: \n",
      "[0.99998114]\n"
     ]
    }
   ],
   "source": [
    "user_input_1 = str(input(\"Masukan 1: \"))\n",
    "user_input_2 = str(input(\"Masukan 2: \"))\n",
    "user_input_3 = str(input(\"Masukan 3: \"))\n",
    "\n",
    "print(\"Data Input Terbaru: \", user_input_1, user_input_2, user_input_3)\n",
    "print(\"Output: \")\n",
    "print(neural_network.think(np.array([user_input_1, user_input_2, user_input_3])))"
   ]
  },
  {
   "cell_type": "code",
   "execution_count": null,
   "id": "requested-natural",
   "metadata": {},
   "outputs": [],
   "source": [
    "if __name__ == \"__main__\":\n",
    "    #initializing the neuron class\n",
    "    neural_network = NeuralNetwork()\n",
    "    \n",
    "    print(\"Menghasilkan Weights Pertama Secara Random: \")\n",
    "    print(neural_network.synaptic_weights)\n",
    "    \n",
    "    #training data consisting of 4 examples--3 input values and 1 output\n",
    "    training_inputs = np.array([[0,0,1],\n",
    "                                [1,1,1],\n",
    "                                [1,0,1],\n",
    "                                [0,1,1]])\n",
    "\n",
    "    training_outputs = np.array([[0,1,1,0]]).T\n",
    "    \n",
    "    #training taking place\n",
    "    neural_network.train(training_inputs, training_outputs, 20000)\n",
    "\n",
    "    print(\"Weights Akhir Setelah Proses Training: \")\n",
    "    print(neural_network.synaptic_weights)\n",
    "\n",
    "    user_input_1 = str(input(\"Masukan 1: \"))\n",
    "    user_input_2 = str(input(\"Masukan 2: \"))\n",
    "    user_input_3 = str(input(\"Masukan 3: \"))\n",
    "    \n",
    "    print(\"Data Input Terbaru: \", user_input_1, user_input_2, user_input_3)\n",
    "    print(\"Output: \")\n",
    "    print(neural_network.think(np.array([user_input_1, user_input_2, user_input_3])))"
   ]
  },
  {
   "cell_type": "code",
   "execution_count": null,
   "id": "studied-player",
   "metadata": {},
   "outputs": [],
   "source": []
  }
 ],
 "metadata": {
  "kernelspec": {
   "display_name": "Python 3",
   "language": "python",
   "name": "python3"
  },
  "language_info": {
   "codemirror_mode": {
    "name": "ipython",
    "version": 3
   },
   "file_extension": ".py",
   "mimetype": "text/x-python",
   "name": "python",
   "nbconvert_exporter": "python",
   "pygments_lexer": "ipython3",
   "version": "3.8.5"
  }
 },
 "nbformat": 4,
 "nbformat_minor": 5
}
