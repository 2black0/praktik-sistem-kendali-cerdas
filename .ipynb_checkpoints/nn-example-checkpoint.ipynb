{
 "cells": [
  {
   "cell_type": "code",
   "execution_count": 2,
   "id": "median-testimony",
   "metadata": {},
   "outputs": [
    {
     "name": "stdout",
     "output_type": "stream",
     "text": [
      "Epoch 1/50\n",
      "1/1 [==============================] - 0s 349ms/step - loss: 0.6703\n",
      "Epoch 2/50\n",
      "1/1 [==============================] - 0s 2ms/step - loss: 0.6526\n",
      "Epoch 3/50\n",
      "1/1 [==============================] - 0s 5ms/step - loss: 0.6368\n",
      "Epoch 4/50\n",
      "1/1 [==============================] - 0s 7ms/step - loss: 0.6204\n",
      "Epoch 5/50\n",
      "1/1 [==============================] - 0s 5ms/step - loss: 0.6030\n",
      "Epoch 6/50\n",
      "1/1 [==============================] - 0s 8ms/step - loss: 0.5841\n",
      "Epoch 7/50\n",
      "1/1 [==============================] - 0s 10ms/step - loss: 0.5639\n",
      "Epoch 8/50\n",
      "1/1 [==============================] - 0s 13ms/step - loss: 0.5422\n",
      "Epoch 9/50\n",
      "1/1 [==============================] - 0s 6ms/step - loss: 0.5195\n",
      "Epoch 10/50\n",
      "1/1 [==============================] - 0s 4ms/step - loss: 0.4958\n",
      "Epoch 11/50\n",
      "1/1 [==============================] - 0s 8ms/step - loss: 0.4714\n",
      "Epoch 12/50\n",
      "1/1 [==============================] - 0s 10ms/step - loss: 0.4465\n",
      "Epoch 13/50\n",
      "1/1 [==============================] - 0s 8ms/step - loss: 0.4211\n",
      "Epoch 14/50\n",
      "1/1 [==============================] - 0s 6ms/step - loss: 0.3955\n",
      "Epoch 15/50\n",
      "1/1 [==============================] - 0s 13ms/step - loss: 0.3699\n",
      "Epoch 16/50\n",
      "1/1 [==============================] - 0s 5ms/step - loss: 0.3446\n",
      "Epoch 17/50\n",
      "1/1 [==============================] - 0s 5ms/step - loss: 0.3201\n",
      "Epoch 18/50\n",
      "1/1 [==============================] - 0s 4ms/step - loss: 0.2967\n",
      "Epoch 19/50\n",
      "1/1 [==============================] - 0s 7ms/step - loss: 0.2748\n",
      "Epoch 20/50\n",
      "1/1 [==============================] - 0s 13ms/step - loss: 0.2545\n",
      "Epoch 21/50\n",
      "1/1 [==============================] - 0s 8ms/step - loss: 0.2360\n",
      "Epoch 22/50\n",
      "1/1 [==============================] - 0s 10ms/step - loss: 0.2193\n",
      "Epoch 23/50\n",
      "1/1 [==============================] - 0s 20ms/step - loss: 0.2042\n",
      "Epoch 24/50\n",
      "1/1 [==============================] - 0s 31ms/step - loss: 0.1906\n",
      "Epoch 25/50\n",
      "1/1 [==============================] - 0s 27ms/step - loss: 0.1784\n",
      "Epoch 26/50\n",
      "1/1 [==============================] - 0s 13ms/step - loss: 0.1675\n",
      "Epoch 27/50\n",
      "1/1 [==============================] - 0s 5ms/step - loss: 0.1577\n",
      "Epoch 28/50\n",
      "1/1 [==============================] - 0s 6ms/step - loss: 0.1489\n",
      "Epoch 29/50\n",
      "1/1 [==============================] - 0s 6ms/step - loss: 0.1409\n",
      "Epoch 30/50\n",
      "1/1 [==============================] - 0s 4ms/step - loss: 0.1336\n",
      "Epoch 31/50\n",
      "1/1 [==============================] - 0s 8ms/step - loss: 0.1270\n",
      "Epoch 32/50\n",
      "1/1 [==============================] - 0s 4ms/step - loss: 0.1211\n",
      "Epoch 33/50\n",
      "1/1 [==============================] - 0s 5ms/step - loss: 0.1156\n",
      "Epoch 34/50\n",
      "1/1 [==============================] - 0s 7ms/step - loss: 0.1105\n",
      "Epoch 35/50\n",
      "1/1 [==============================] - 0s 6ms/step - loss: 0.1059\n",
      "Epoch 36/50\n",
      "1/1 [==============================] - 0s 10ms/step - loss: 0.1017\n",
      "Epoch 37/50\n",
      "1/1 [==============================] - 0s 13ms/step - loss: 0.0977\n",
      "Epoch 38/50\n",
      "1/1 [==============================] - 0s 7ms/step - loss: 0.0940\n",
      "Epoch 39/50\n",
      "1/1 [==============================] - 0s 2ms/step - loss: 0.0906\n",
      "Epoch 40/50\n",
      "1/1 [==============================] - 0s 6ms/step - loss: 0.0875\n",
      "Epoch 41/50\n",
      "1/1 [==============================] - 0s 4ms/step - loss: 0.0845\n",
      "Epoch 42/50\n",
      "1/1 [==============================] - 0s 3ms/step - loss: 0.0818\n",
      "Epoch 43/50\n",
      "1/1 [==============================] - 0s 6ms/step - loss: 0.0792\n",
      "Epoch 44/50\n",
      "1/1 [==============================] - 0s 7ms/step - loss: 0.0767\n",
      "Epoch 45/50\n",
      "1/1 [==============================] - 0s 3ms/step - loss: 0.0744\n",
      "Epoch 46/50\n",
      "1/1 [==============================] - 0s 7ms/step - loss: 0.0723\n",
      "Epoch 47/50\n",
      "1/1 [==============================] - 0s 4ms/step - loss: 0.0702\n",
      "Epoch 48/50\n",
      "1/1 [==============================] - 0s 6ms/step - loss: 0.0683\n",
      "Epoch 49/50\n",
      "1/1 [==============================] - 0s 2ms/step - loss: 0.0665\n",
      "Epoch 50/50\n",
      "1/1 [==============================] - 0s 2ms/step - loss: 0.0647\n"
     ]
    },
    {
     "data": {
      "text/plain": [
       "<tensorflow.python.keras.callbacks.History at 0x7f951f33dbe0>"
      ]
     },
     "execution_count": 2,
     "metadata": {},
     "output_type": "execute_result"
    }
   ],
   "source": [
    "import tensorflow as tf\n",
    "from tensorflow import keras\n",
    "import numpy as np\n",
    "\n",
    "model = keras.Sequential()\n",
    "\n",
    "input_layer = keras.layers.Dense(8,input_dim=2,activation='tanh')\n",
    "model.add(input_layer)\n",
    "hidden_layer = keras.layers.Dense(3,activation='tanh')\n",
    "model.add(hidden_layer)\n",
    "output_layer = keras.layers.Dense(1,activation='sigmoid')\n",
    "model.add(output_layer)\n",
    "\n",
    "sgd = keras.optimizers.SGD(lr=1)\n",
    "model.compile(optimizer=sgd,loss='binary_crossentropy')\n",
    "\n",
    "x = np.array([[0,0],[0,1],[1,0],[1,1]])\n",
    "y = np.array([[1],[0],[0],[1]])\n",
    "\n",
    "model.fit(x,y, batch_size=10, epochs=50, shuffle=False)"
   ]
  },
  {
   "cell_type": "code",
   "execution_count": 3,
   "id": "appreciated-inside",
   "metadata": {},
   "outputs": [
    {
     "name": "stdout",
     "output_type": "stream",
     "text": [
      "[[0.99223757]\n",
      " [0.07059014]\n",
      " [0.06981501]\n",
      " [0.9057736 ]]\n"
     ]
    }
   ],
   "source": [
    "x = np.array([[0,0],[0,1],[1,0],[1,1]])\n",
    "results = model.predict(x,verbose=0,steps=1)\n",
    "print(results)"
   ]
  },
  {
   "cell_type": "code",
   "execution_count": 4,
   "id": "relative-acrylic",
   "metadata": {},
   "outputs": [
    {
     "data": {
      "text/plain": [
       "array([[1],\n",
       "       [0],\n",
       "       [0],\n",
       "       [1]])"
      ]
     },
     "execution_count": 4,
     "metadata": {},
     "output_type": "execute_result"
    }
   ],
   "source": [
    "y = np.array([[1],[0],[0],[1]])\n",
    "y"
   ]
  },
  {
   "cell_type": "code",
   "execution_count": null,
   "id": "married-glance",
   "metadata": {},
   "outputs": [],
   "source": []
  }
 ],
 "metadata": {
  "kernelspec": {
   "display_name": "Python 3",
   "language": "python",
   "name": "python3"
  },
  "language_info": {
   "codemirror_mode": {
    "name": "ipython",
    "version": 3
   },
   "file_extension": ".py",
   "mimetype": "text/x-python",
   "name": "python",
   "nbconvert_exporter": "python",
   "pygments_lexer": "ipython3",
   "version": "3.8.5"
  }
 },
 "nbformat": 4,
 "nbformat_minor": 5
}
