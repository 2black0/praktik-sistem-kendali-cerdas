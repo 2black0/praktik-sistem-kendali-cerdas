{
 "cells": [
  {
   "cell_type": "code",
   "execution_count": 2,
   "id": "median-testimony",
   "metadata": {
    "tags": []
   },
   "outputs": [],
   "source": [
    "import tensorflow as tf\n",
    "from tensorflow import keras\n",
    "import numpy as np"
   ]
  },
  {
   "cell_type": "code",
   "execution_count": 3,
   "id": "b5c82832-c96a-4538-a695-0ce4e06bfefc",
   "metadata": {
    "tags": []
   },
   "outputs": [],
   "source": [
    "model = keras.Sequential()"
   ]
  },
  {
   "cell_type": "code",
   "execution_count": 4,
   "id": "a929e597-36ba-450b-b0c2-7ac7bb8eb230",
   "metadata": {
    "tags": []
   },
   "outputs": [],
   "source": [
    "input_layer = keras.layers.Dense(8,input_dim=2,activation='tanh')\n",
    "model.add(input_layer)\n",
    "hidden_layer = keras.layers.Dense(3,activation='tanh')\n",
    "model.add(hidden_layer)\n",
    "output_layer = keras.layers.Dense(1,activation='sigmoid')\n",
    "model.add(output_layer)"
   ]
  },
  {
   "cell_type": "code",
   "execution_count": 6,
   "id": "72f1b474-1cf7-4a82-8081-0d2c9a963960",
   "metadata": {
    "tags": []
   },
   "outputs": [],
   "source": [
    "sgd = keras.optimizers.SGD(learning_rate=1)\n",
    "model.compile(optimizer=sgd,loss='binary_crossentropy')"
   ]
  },
  {
   "cell_type": "code",
   "execution_count": 7,
   "id": "02aa15ca-291f-429b-8822-252715ef3fe5",
   "metadata": {
    "tags": []
   },
   "outputs": [],
   "source": [
    "x = np.array([[0,0],[0,1],[1,0],[1,1]])\n",
    "y = np.array([[1],[0],[0],[1]])"
   ]
  },
  {
   "cell_type": "code",
   "execution_count": 14,
   "id": "dcb06ff0-de0f-40d8-9ac9-0119fd36f743",
   "metadata": {
    "tags": []
   },
   "outputs": [
    {
     "name": "stdout",
     "output_type": "stream",
     "text": [
      "Epoch 1/100\n",
      "1/1 [==============================] - 0s 4ms/step - loss: 9.7261e-04\n",
      "Epoch 2/100\n",
      "1/1 [==============================] - 0s 3ms/step - loss: 9.7165e-04\n",
      "Epoch 3/100\n",
      "1/1 [==============================] - 0s 3ms/step - loss: 9.7070e-04\n",
      "Epoch 4/100\n",
      "1/1 [==============================] - 0s 2ms/step - loss: 9.6974e-04\n",
      "Epoch 5/100\n",
      "1/1 [==============================] - 0s 3ms/step - loss: 9.6879e-04\n",
      "Epoch 6/100\n",
      "1/1 [==============================] - 0s 3ms/step - loss: 9.6784e-04\n",
      "Epoch 7/100\n",
      "1/1 [==============================] - 0s 2ms/step - loss: 9.6689e-04\n",
      "Epoch 8/100\n",
      "1/1 [==============================] - 0s 3ms/step - loss: 9.6594e-04\n",
      "Epoch 9/100\n",
      "1/1 [==============================] - 0s 2ms/step - loss: 9.6499e-04\n",
      "Epoch 10/100\n",
      "1/1 [==============================] - 0s 2ms/step - loss: 9.6405e-04\n",
      "Epoch 11/100\n",
      "1/1 [==============================] - 0s 3ms/step - loss: 9.6311e-04\n",
      "Epoch 12/100\n",
      "1/1 [==============================] - 0s 3ms/step - loss: 9.6217e-04\n",
      "Epoch 13/100\n",
      "1/1 [==============================] - 0s 3ms/step - loss: 9.6123e-04\n",
      "Epoch 14/100\n",
      "1/1 [==============================] - 0s 3ms/step - loss: 9.6029e-04\n",
      "Epoch 15/100\n",
      "1/1 [==============================] - 0s 2ms/step - loss: 9.5936e-04\n",
      "Epoch 16/100\n",
      "1/1 [==============================] - 0s 3ms/step - loss: 9.5843e-04\n",
      "Epoch 17/100\n",
      "1/1 [==============================] - 0s 2ms/step - loss: 9.5749e-04\n",
      "Epoch 18/100\n",
      "1/1 [==============================] - 0s 2ms/step - loss: 9.5656e-04\n",
      "Epoch 19/100\n",
      "1/1 [==============================] - 0s 2ms/step - loss: 9.5564e-04\n",
      "Epoch 20/100\n",
      "1/1 [==============================] - 0s 3ms/step - loss: 9.5471e-04\n",
      "Epoch 21/100\n",
      "1/1 [==============================] - 0s 2ms/step - loss: 9.5379e-04\n",
      "Epoch 22/100\n",
      "1/1 [==============================] - 0s 3ms/step - loss: 9.5286e-04\n",
      "Epoch 23/100\n",
      "1/1 [==============================] - 0s 2ms/step - loss: 9.5194e-04\n",
      "Epoch 24/100\n",
      "1/1 [==============================] - 0s 2ms/step - loss: 9.5103e-04\n",
      "Epoch 25/100\n",
      "1/1 [==============================] - 0s 3ms/step - loss: 9.5011e-04\n",
      "Epoch 26/100\n",
      "1/1 [==============================] - 0s 3ms/step - loss: 9.4919e-04\n",
      "Epoch 27/100\n",
      "1/1 [==============================] - 0s 3ms/step - loss: 9.4828e-04\n",
      "Epoch 28/100\n",
      "1/1 [==============================] - 0s 2ms/step - loss: 9.4737e-04\n",
      "Epoch 29/100\n",
      "1/1 [==============================] - 0s 3ms/step - loss: 9.4646e-04\n",
      "Epoch 30/100\n",
      "1/1 [==============================] - 0s 4ms/step - loss: 9.4555e-04\n",
      "Epoch 31/100\n",
      "1/1 [==============================] - 0s 3ms/step - loss: 9.4465e-04\n",
      "Epoch 32/100\n",
      "1/1 [==============================] - 0s 3ms/step - loss: 9.4374e-04\n",
      "Epoch 33/100\n",
      "1/1 [==============================] - 0s 3ms/step - loss: 9.4284e-04\n",
      "Epoch 34/100\n",
      "1/1 [==============================] - 0s 3ms/step - loss: 9.4194e-04\n",
      "Epoch 35/100\n",
      "1/1 [==============================] - 0s 3ms/step - loss: 9.4104e-04\n",
      "Epoch 36/100\n",
      "1/1 [==============================] - 0s 2ms/step - loss: 9.4014e-04\n",
      "Epoch 37/100\n",
      "1/1 [==============================] - 0s 3ms/step - loss: 9.3924e-04\n",
      "Epoch 38/100\n",
      "1/1 [==============================] - 0s 3ms/step - loss: 9.3835e-04\n",
      "Epoch 39/100\n",
      "1/1 [==============================] - 0s 4ms/step - loss: 9.3746e-04\n",
      "Epoch 40/100\n",
      "1/1 [==============================] - 0s 3ms/step - loss: 9.3657e-04\n",
      "Epoch 41/100\n",
      "1/1 [==============================] - 0s 3ms/step - loss: 9.3568e-04\n",
      "Epoch 42/100\n",
      "1/1 [==============================] - 0s 3ms/step - loss: 9.3479e-04\n",
      "Epoch 43/100\n",
      "1/1 [==============================] - 0s 3ms/step - loss: 9.3390e-04\n",
      "Epoch 44/100\n",
      "1/1 [==============================] - 0s 3ms/step - loss: 9.3302e-04\n",
      "Epoch 45/100\n",
      "1/1 [==============================] - 0s 3ms/step - loss: 9.3214e-04\n",
      "Epoch 46/100\n",
      "1/1 [==============================] - 0s 4ms/step - loss: 9.3126e-04\n",
      "Epoch 47/100\n",
      "1/1 [==============================] - 0s 3ms/step - loss: 9.3038e-04\n",
      "Epoch 48/100\n",
      "1/1 [==============================] - 0s 3ms/step - loss: 9.2950e-04\n",
      "Epoch 49/100\n",
      "1/1 [==============================] - 0s 3ms/step - loss: 9.2863e-04\n",
      "Epoch 50/100\n",
      "1/1 [==============================] - 0s 3ms/step - loss: 9.2775e-04\n",
      "Epoch 51/100\n",
      "1/1 [==============================] - 0s 2ms/step - loss: 9.2688e-04\n",
      "Epoch 52/100\n",
      "1/1 [==============================] - 0s 8ms/step - loss: 9.2601e-04\n",
      "Epoch 53/100\n",
      "1/1 [==============================] - 0s 4ms/step - loss: 9.2514e-04\n",
      "Epoch 54/100\n",
      "1/1 [==============================] - 0s 3ms/step - loss: 9.2427e-04\n",
      "Epoch 55/100\n",
      "1/1 [==============================] - 0s 3ms/step - loss: 9.2341e-04\n",
      "Epoch 56/100\n",
      "1/1 [==============================] - 0s 3ms/step - loss: 9.2254e-04\n",
      "Epoch 57/100\n",
      "1/1 [==============================] - 0s 3ms/step - loss: 9.2168e-04\n",
      "Epoch 58/100\n",
      "1/1 [==============================] - 0s 3ms/step - loss: 9.2082e-04\n",
      "Epoch 59/100\n",
      "1/1 [==============================] - 0s 2ms/step - loss: 9.1996e-04\n",
      "Epoch 60/100\n",
      "1/1 [==============================] - 0s 3ms/step - loss: 9.1910e-04\n",
      "Epoch 61/100\n",
      "1/1 [==============================] - 0s 4ms/step - loss: 9.1824e-04\n",
      "Epoch 62/100\n",
      "1/1 [==============================] - 0s 3ms/step - loss: 9.1739e-04\n",
      "Epoch 63/100\n",
      "1/1 [==============================] - 0s 3ms/step - loss: 9.1654e-04\n",
      "Epoch 64/100\n",
      "1/1 [==============================] - 0s 3ms/step - loss: 9.1569e-04\n",
      "Epoch 65/100\n",
      "1/1 [==============================] - 0s 3ms/step - loss: 9.1484e-04\n",
      "Epoch 66/100\n",
      "1/1 [==============================] - 0s 3ms/step - loss: 9.1399e-04\n",
      "Epoch 67/100\n",
      "1/1 [==============================] - 0s 2ms/step - loss: 9.1314e-04\n",
      "Epoch 68/100\n",
      "1/1 [==============================] - 0s 3ms/step - loss: 9.1230e-04\n",
      "Epoch 69/100\n",
      "1/1 [==============================] - 0s 3ms/step - loss: 9.1145e-04\n",
      "Epoch 70/100\n",
      "1/1 [==============================] - 0s 3ms/step - loss: 9.1061e-04\n",
      "Epoch 71/100\n",
      "1/1 [==============================] - 0s 3ms/step - loss: 9.0977e-04\n",
      "Epoch 72/100\n",
      "1/1 [==============================] - 0s 2ms/step - loss: 9.0893e-04\n",
      "Epoch 73/100\n",
      "1/1 [==============================] - 0s 3ms/step - loss: 9.0809e-04\n",
      "Epoch 74/100\n",
      "1/1 [==============================] - 0s 4ms/step - loss: 9.0726e-04\n",
      "Epoch 75/100\n",
      "1/1 [==============================] - 0s 2ms/step - loss: 9.0642e-04\n",
      "Epoch 76/100\n",
      "1/1 [==============================] - 0s 3ms/step - loss: 9.0559e-04\n",
      "Epoch 77/100\n",
      "1/1 [==============================] - 0s 3ms/step - loss: 9.0476e-04\n",
      "Epoch 78/100\n",
      "1/1 [==============================] - 0s 2ms/step - loss: 9.0393e-04\n",
      "Epoch 79/100\n",
      "1/1 [==============================] - 0s 2ms/step - loss: 9.0310e-04\n",
      "Epoch 80/100\n",
      "1/1 [==============================] - 0s 3ms/step - loss: 9.0228e-04\n",
      "Epoch 81/100\n",
      "1/1 [==============================] - 0s 3ms/step - loss: 9.0145e-04\n",
      "Epoch 82/100\n",
      "1/1 [==============================] - 0s 3ms/step - loss: 9.0063e-04\n",
      "Epoch 83/100\n",
      "1/1 [==============================] - 0s 3ms/step - loss: 8.9980e-04\n",
      "Epoch 84/100\n",
      "1/1 [==============================] - 0s 2ms/step - loss: 8.9898e-04\n",
      "Epoch 85/100\n",
      "1/1 [==============================] - 0s 3ms/step - loss: 8.9817e-04\n",
      "Epoch 86/100\n",
      "1/1 [==============================] - 0s 3ms/step - loss: 8.9735e-04\n",
      "Epoch 87/100\n",
      "1/1 [==============================] - 0s 3ms/step - loss: 8.9653e-04\n",
      "Epoch 88/100\n",
      "1/1 [==============================] - 0s 2ms/step - loss: 8.9572e-04\n",
      "Epoch 89/100\n",
      "1/1 [==============================] - 0s 3ms/step - loss: 8.9490e-04\n",
      "Epoch 90/100\n",
      "1/1 [==============================] - 0s 2ms/step - loss: 8.9409e-04\n",
      "Epoch 91/100\n",
      "1/1 [==============================] - 0s 3ms/step - loss: 8.9328e-04\n",
      "Epoch 92/100\n",
      "1/1 [==============================] - 0s 3ms/step - loss: 8.9247e-04\n",
      "Epoch 93/100\n",
      "1/1 [==============================] - 0s 2ms/step - loss: 8.9167e-04\n",
      "Epoch 94/100\n",
      "1/1 [==============================] - 0s 3ms/step - loss: 8.9086e-04\n",
      "Epoch 95/100\n",
      "1/1 [==============================] - 0s 3ms/step - loss: 8.9006e-04\n",
      "Epoch 96/100\n",
      "1/1 [==============================] - 0s 3ms/step - loss: 8.8925e-04\n",
      "Epoch 97/100\n",
      "1/1 [==============================] - 0s 2ms/step - loss: 8.8845e-04\n",
      "Epoch 98/100\n",
      "1/1 [==============================] - 0s 2ms/step - loss: 8.8765e-04\n",
      "Epoch 99/100\n",
      "1/1 [==============================] - 0s 2ms/step - loss: 8.8685e-04\n",
      "Epoch 100/100\n",
      "1/1 [==============================] - 0s 3ms/step - loss: 8.8606e-04\n"
     ]
    },
    {
     "data": {
      "text/plain": [
       "<keras.callbacks.History at 0x18611a3ba30>"
      ]
     },
     "execution_count": 14,
     "metadata": {},
     "output_type": "execute_result"
    }
   ],
   "source": [
    "model.fit(x,y, batch_size=10, epochs=100, shuffle=False)"
   ]
  },
  {
   "cell_type": "code",
   "execution_count": 15,
   "id": "appreciated-inside",
   "metadata": {
    "tags": []
   },
   "outputs": [
    {
     "name": "stdout",
     "output_type": "stream",
     "text": [
      "[[9.9989355e-01]\n",
      " [8.4595935e-04]\n",
      " [8.5975224e-04]\n",
      " [9.9827337e-01]]\n"
     ]
    }
   ],
   "source": [
    "x = np.array([[0,0],[0,1],[1,0],[1,1]])\n",
    "results = model.predict(x,verbose=0,steps=1)\n",
    "print(results)"
   ]
  },
  {
   "cell_type": "code",
   "execution_count": 16,
   "id": "relative-acrylic",
   "metadata": {
    "tags": []
   },
   "outputs": [
    {
     "data": {
      "text/plain": [
       "array([[1],\n",
       "       [0],\n",
       "       [0],\n",
       "       [1]])"
      ]
     },
     "execution_count": 16,
     "metadata": {},
     "output_type": "execute_result"
    }
   ],
   "source": [
    "y = np.array([[1],[0],[0],[1]])\n",
    "y"
   ]
  },
  {
   "cell_type": "code",
   "execution_count": null,
   "id": "married-glance",
   "metadata": {},
   "outputs": [],
   "source": []
  }
 ],
 "metadata": {
  "kernelspec": {
   "display_name": "Python 3 (ipykernel)",
   "language": "python",
   "name": "python3"
  },
  "language_info": {
   "codemirror_mode": {
    "name": "ipython",
    "version": 3
   },
   "file_extension": ".py",
   "mimetype": "text/x-python",
   "name": "python",
   "nbconvert_exporter": "python",
   "pygments_lexer": "ipython3",
   "version": "3.9.15"
  }
 },
 "nbformat": 4,
 "nbformat_minor": 5
}
